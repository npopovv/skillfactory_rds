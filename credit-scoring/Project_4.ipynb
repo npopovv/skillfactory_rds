{
 "cells": [
  {
   "cell_type": "markdown",
   "metadata": {
    "papermill": {
     "duration": 0.099172,
     "end_time": "2020-12-08T14:38:43.018201",
     "exception": false,
     "start_time": "2020-12-08T14:38:42.919029",
     "status": "completed"
    },
    "tags": []
   },
   "source": [
    "# Проект 4"
   ]
  },
  {
   "cell_type": "markdown",
   "metadata": {
    "papermill": {
     "duration": 0.102156,
     "end_time": "2020-12-08T14:38:43.218344",
     "exception": false,
     "start_time": "2020-12-08T14:38:43.116188",
     "status": "completed"
    },
    "tags": []
   },
   "source": [
    "# Импорт библиотек"
   ]
  },
  {
   "cell_type": "code",
   "execution_count": 1,
   "metadata": {
    "execution": {
     "iopub.execute_input": "2020-12-08T14:38:43.431021Z",
     "iopub.status.busy": "2020-12-08T14:38:43.430077Z",
     "iopub.status.idle": "2020-12-08T14:38:46.150964Z",
     "shell.execute_reply": "2020-12-08T14:38:46.149358Z"
    },
    "papermill": {
     "duration": 2.83697,
     "end_time": "2020-12-08T14:38:46.151152",
     "exception": false,
     "start_time": "2020-12-08T14:38:43.314182",
     "status": "completed"
    },
    "tags": []
   },
   "outputs": [],
   "source": [
    "import pandas as pd\n",
    "#import pandas_profiling\n",
    "import numpy as np\n",
    "import matplotlib.pyplot as plt\n",
    "import seaborn as sns \n",
    "%matplotlib inline\n",
    "from sklearn.feature_selection import f_classif, mutual_info_classif\n",
    "from sklearn.preprocessing import LabelEncoder, OneHotEncoder, StandardScaler\n",
    "from sklearn.preprocessing import PolynomialFeatures\n",
    "from sklearn.model_selection import train_test_split, GridSearchCV\n",
    "from sklearn.linear_model import LogisticRegression\n",
    "from sklearn.metrics import accuracy_score, precision_score, recall_score, f1_score\n",
    "from sklearn.metrics import precision_recall_curve\n",
    "from sklearn.metrics import confusion_matrix\n",
    "from sklearn.metrics import auc, roc_auc_score, roc_curve\n",
    "from sklearn.metrics import average_precision_score\n",
    "from sklearn.model_selection import cross_validate\n",
    "#from mlxtend.feature_selection import ExhaustiveFeatureSelector as EFS\n",
    "from math import log as log\n",
    "import os\n",
    "\n",
    "#pd.options.mode.chained_assignment = None\n",
    "\n",
    "#for dirname, _, filenames in os.walk('/kaggle/input'):\n",
    "#    for filename in filenames:\n",
    "#        print(os.path.join(dirname, filename))\n",
    "#PATH_to_file = '/kaggle/input/sf-dst-scoring/'"
   ]
  },
  {
   "cell_type": "markdown",
   "metadata": {
    "papermill": {
     "duration": 0.096536,
     "end_time": "2020-12-08T14:38:46.345236",
     "exception": false,
     "start_time": "2020-12-08T14:38:46.248700",
     "status": "completed"
    },
    "tags": []
   },
   "source": [
    "# 1.  Данные"
   ]
  },
  {
   "cell_type": "code",
   "execution_count": 2,
   "metadata": {
    "_cell_guid": "b1076dfc-b9ad-4769-8c92-a6c4dae69d19",
    "_uuid": "8f2839f25d086af736a60e9eeb907d3b93b6e0e5",
    "execution": {
     "iopub.execute_input": "2020-12-08T14:38:46.547636Z",
     "iopub.status.busy": "2020-12-08T14:38:46.546819Z",
     "iopub.status.idle": "2020-12-08T14:38:47.004459Z",
     "shell.execute_reply": "2020-12-08T14:38:47.003614Z"
    },
    "papermill": {
     "duration": 0.562896,
     "end_time": "2020-12-08T14:38:47.004663",
     "exception": false,
     "start_time": "2020-12-08T14:38:46.441767",
     "status": "completed"
    },
    "tags": []
   },
   "outputs": [
    {
     "name": "stdout",
     "output_type": "stream",
     "text": [
      "Размерность тренировочного датасета:  (73799, 19)\n"
     ]
    },
    {
     "data": {
      "text/html": [
       "<div>\n",
       "<style scoped>\n",
       "    .dataframe tbody tr th:only-of-type {\n",
       "        vertical-align: middle;\n",
       "    }\n",
       "\n",
       "    .dataframe tbody tr th {\n",
       "        vertical-align: top;\n",
       "    }\n",
       "\n",
       "    .dataframe thead th {\n",
       "        text-align: right;\n",
       "    }\n",
       "</style>\n",
       "<table border=\"1\" class=\"dataframe\">\n",
       "  <thead>\n",
       "    <tr style=\"text-align: right;\">\n",
       "      <th></th>\n",
       "      <th>client_id</th>\n",
       "      <th>app_date</th>\n",
       "      <th>education</th>\n",
       "      <th>sex</th>\n",
       "      <th>age</th>\n",
       "      <th>car</th>\n",
       "      <th>car_type</th>\n",
       "      <th>decline_app_cnt</th>\n",
       "      <th>good_work</th>\n",
       "      <th>score_bki</th>\n",
       "      <th>bki_request_cnt</th>\n",
       "      <th>region_rating</th>\n",
       "      <th>home_address</th>\n",
       "      <th>work_address</th>\n",
       "      <th>income</th>\n",
       "      <th>sna</th>\n",
       "      <th>first_time</th>\n",
       "      <th>foreign_passport</th>\n",
       "      <th>default</th>\n",
       "    </tr>\n",
       "  </thead>\n",
       "  <tbody>\n",
       "    <tr>\n",
       "      <th>0</th>\n",
       "      <td>25905</td>\n",
       "      <td>01FEB2014</td>\n",
       "      <td>SCH</td>\n",
       "      <td>M</td>\n",
       "      <td>62</td>\n",
       "      <td>Y</td>\n",
       "      <td>Y</td>\n",
       "      <td>0</td>\n",
       "      <td>0</td>\n",
       "      <td>-2.008753</td>\n",
       "      <td>1</td>\n",
       "      <td>50</td>\n",
       "      <td>1</td>\n",
       "      <td>2</td>\n",
       "      <td>18000</td>\n",
       "      <td>4</td>\n",
       "      <td>1</td>\n",
       "      <td>N</td>\n",
       "      <td>0</td>\n",
       "    </tr>\n",
       "    <tr>\n",
       "      <th>1</th>\n",
       "      <td>63161</td>\n",
       "      <td>12MAR2014</td>\n",
       "      <td>SCH</td>\n",
       "      <td>F</td>\n",
       "      <td>59</td>\n",
       "      <td>N</td>\n",
       "      <td>N</td>\n",
       "      <td>0</td>\n",
       "      <td>0</td>\n",
       "      <td>-1.532276</td>\n",
       "      <td>3</td>\n",
       "      <td>50</td>\n",
       "      <td>2</td>\n",
       "      <td>3</td>\n",
       "      <td>19000</td>\n",
       "      <td>4</td>\n",
       "      <td>1</td>\n",
       "      <td>N</td>\n",
       "      <td>0</td>\n",
       "    </tr>\n",
       "  </tbody>\n",
       "</table>\n",
       "</div>"
      ],
      "text/plain": [
       "   client_id   app_date education sex  age car car_type  decline_app_cnt  \\\n",
       "0      25905  01FEB2014       SCH   M   62   Y        Y                0   \n",
       "1      63161  12MAR2014       SCH   F   59   N        N                0   \n",
       "\n",
       "   good_work  score_bki  bki_request_cnt  region_rating  home_address  \\\n",
       "0          0  -2.008753                1             50             1   \n",
       "1          0  -1.532276                3             50             2   \n",
       "\n",
       "   work_address  income  sna  first_time foreign_passport  default  \n",
       "0             2   18000    4           1                N        0  \n",
       "1             3   19000    4           1                N        0  "
      ]
     },
     "metadata": {},
     "output_type": "display_data"
    },
    {
     "name": "stdout",
     "output_type": "stream",
     "text": [
      "Размерность тестового датасета:  (36349, 18)\n"
     ]
    },
    {
     "data": {
      "text/html": [
       "<div>\n",
       "<style scoped>\n",
       "    .dataframe tbody tr th:only-of-type {\n",
       "        vertical-align: middle;\n",
       "    }\n",
       "\n",
       "    .dataframe tbody tr th {\n",
       "        vertical-align: top;\n",
       "    }\n",
       "\n",
       "    .dataframe thead th {\n",
       "        text-align: right;\n",
       "    }\n",
       "</style>\n",
       "<table border=\"1\" class=\"dataframe\">\n",
       "  <thead>\n",
       "    <tr style=\"text-align: right;\">\n",
       "      <th></th>\n",
       "      <th>client_id</th>\n",
       "      <th>app_date</th>\n",
       "      <th>education</th>\n",
       "      <th>sex</th>\n",
       "      <th>age</th>\n",
       "      <th>car</th>\n",
       "      <th>car_type</th>\n",
       "      <th>decline_app_cnt</th>\n",
       "      <th>good_work</th>\n",
       "      <th>score_bki</th>\n",
       "      <th>bki_request_cnt</th>\n",
       "      <th>region_rating</th>\n",
       "      <th>home_address</th>\n",
       "      <th>work_address</th>\n",
       "      <th>income</th>\n",
       "      <th>sna</th>\n",
       "      <th>first_time</th>\n",
       "      <th>foreign_passport</th>\n",
       "    </tr>\n",
       "  </thead>\n",
       "  <tbody>\n",
       "    <tr>\n",
       "      <th>0</th>\n",
       "      <td>74835</td>\n",
       "      <td>22MAR2014</td>\n",
       "      <td>GRD</td>\n",
       "      <td>M</td>\n",
       "      <td>29</td>\n",
       "      <td>Y</td>\n",
       "      <td>Y</td>\n",
       "      <td>0</td>\n",
       "      <td>0</td>\n",
       "      <td>-2.271884</td>\n",
       "      <td>3</td>\n",
       "      <td>50</td>\n",
       "      <td>1</td>\n",
       "      <td>2</td>\n",
       "      <td>50000</td>\n",
       "      <td>1</td>\n",
       "      <td>4</td>\n",
       "      <td>N</td>\n",
       "    </tr>\n",
       "    <tr>\n",
       "      <th>1</th>\n",
       "      <td>17527</td>\n",
       "      <td>24JAN2014</td>\n",
       "      <td>SCH</td>\n",
       "      <td>F</td>\n",
       "      <td>39</td>\n",
       "      <td>N</td>\n",
       "      <td>N</td>\n",
       "      <td>5</td>\n",
       "      <td>0</td>\n",
       "      <td>-1.504999</td>\n",
       "      <td>2</td>\n",
       "      <td>50</td>\n",
       "      <td>1</td>\n",
       "      <td>2</td>\n",
       "      <td>5000</td>\n",
       "      <td>4</td>\n",
       "      <td>3</td>\n",
       "      <td>N</td>\n",
       "    </tr>\n",
       "  </tbody>\n",
       "</table>\n",
       "</div>"
      ],
      "text/plain": [
       "   client_id   app_date education sex  age car car_type  decline_app_cnt  \\\n",
       "0      74835  22MAR2014       GRD   M   29   Y        Y                0   \n",
       "1      17527  24JAN2014       SCH   F   39   N        N                5   \n",
       "\n",
       "   good_work  score_bki  bki_request_cnt  region_rating  home_address  \\\n",
       "0          0  -2.271884                3             50             1   \n",
       "1          0  -1.504999                2             50             1   \n",
       "\n",
       "   work_address  income  sna  first_time foreign_passport  \n",
       "0             2   50000    1           4                N  \n",
       "1             2    5000    4           3                N  "
      ]
     },
     "metadata": {},
     "output_type": "display_data"
    }
   ],
   "source": [
    "df_train = pd.read_csv('train.csv')\n",
    "df_test = pd.read_csv('test.csv')\n",
    "pd.set_option('display.max_columns', None)\n",
    "print('Размерность тренировочного датасета: ', df_train.shape)\n",
    "display(df_train.head(2))\n",
    "print('Размерность тестового датасета: ', df_test.shape)\n",
    "display(df_test.head(2))"
   ]
  },
  {
   "cell_type": "code",
   "execution_count": 3,
   "metadata": {
    "execution": {
     "iopub.execute_input": "2020-12-08T14:38:47.220191Z",
     "iopub.status.busy": "2020-12-08T14:38:47.218563Z",
     "iopub.status.idle": "2020-12-08T14:38:47.315371Z",
     "shell.execute_reply": "2020-12-08T14:38:47.314547Z"
    },
    "papermill": {
     "duration": 0.209847,
     "end_time": "2020-12-08T14:38:47.315519",
     "exception": false,
     "start_time": "2020-12-08T14:38:47.105672",
     "status": "completed"
    },
    "tags": []
   },
   "outputs": [],
   "source": [
    "# ВАЖНО! для корректной обработки признаков объединяем трейн и тест в один датасет\n",
    "df_train['Train'] = 1 # помечаем где у нас трейн\n",
    "df_test['Train'] = 0 # помечаем где у нас тест\n",
    "\n",
    "df = df_train.append(df_test, sort=False).reset_index(drop=True) # объединяем"
   ]
  },
  {
   "cell_type": "code",
   "execution_count": 4,
   "metadata": {
    "execution": {
     "iopub.execute_input": "2020-12-08T14:38:47.521170Z",
     "iopub.status.busy": "2020-12-08T14:38:47.520208Z",
     "iopub.status.idle": "2020-12-08T14:38:47.619232Z",
     "shell.execute_reply": "2020-12-08T14:38:47.618474Z"
    },
    "papermill": {
     "duration": 0.204969,
     "end_time": "2020-12-08T14:38:47.619383",
     "exception": false,
     "start_time": "2020-12-08T14:38:47.414414",
     "status": "completed"
    },
    "tags": []
   },
   "outputs": [
    {
     "name": "stdout",
     "output_type": "stream",
     "text": [
      "<class 'pandas.core.frame.DataFrame'>\n",
      "Int64Index: 36349 entries, 73799 to 110147\n",
      "Data columns (total 20 columns):\n",
      " #   Column            Non-Null Count  Dtype  \n",
      "---  ------            --------------  -----  \n",
      " 0   client_id         36349 non-null  int64  \n",
      " 1   app_date          36349 non-null  object \n",
      " 2   education         36178 non-null  object \n",
      " 3   sex               36349 non-null  object \n",
      " 4   age               36349 non-null  int64  \n",
      " 5   car               36349 non-null  object \n",
      " 6   car_type          36349 non-null  object \n",
      " 7   decline_app_cnt   36349 non-null  int64  \n",
      " 8   good_work         36349 non-null  int64  \n",
      " 9   score_bki         36349 non-null  float64\n",
      " 10  bki_request_cnt   36349 non-null  int64  \n",
      " 11  region_rating     36349 non-null  int64  \n",
      " 12  home_address      36349 non-null  int64  \n",
      " 13  work_address      36349 non-null  int64  \n",
      " 14  income            36349 non-null  int64  \n",
      " 15  sna               36349 non-null  int64  \n",
      " 16  first_time        36349 non-null  int64  \n",
      " 17  foreign_passport  36349 non-null  object \n",
      " 18  default           0 non-null      float64\n",
      " 19  Train             36349 non-null  int64  \n",
      "dtypes: float64(2), int64(12), object(6)\n",
      "memory usage: 5.8+ MB\n"
     ]
    }
   ],
   "source": [
    "df[df['Train']==0].info()"
   ]
  },
  {
   "cell_type": "code",
   "execution_count": 5,
   "metadata": {
    "_cell_guid": "79c7e3d0-c299-4dcb-8224-4455121ee9b0",
    "_uuid": "d629ff2d2480ee46fbb7e2d37f6b5fab8052498a",
    "execution": {
     "iopub.execute_input": "2020-12-08T14:38:47.825745Z",
     "iopub.status.busy": "2020-12-08T14:38:47.824802Z",
     "iopub.status.idle": "2020-12-08T14:38:47.902181Z",
     "shell.execute_reply": "2020-12-08T14:38:47.901376Z"
    },
    "papermill": {
     "duration": 0.182288,
     "end_time": "2020-12-08T14:38:47.902364",
     "exception": false,
     "start_time": "2020-12-08T14:38:47.720076",
     "status": "completed"
    },
    "tags": []
   },
   "outputs": [
    {
     "name": "stdout",
     "output_type": "stream",
     "text": [
      "<class 'pandas.core.frame.DataFrame'>\n",
      "Int64Index: 73799 entries, 0 to 73798\n",
      "Data columns (total 20 columns):\n",
      " #   Column            Non-Null Count  Dtype  \n",
      "---  ------            --------------  -----  \n",
      " 0   client_id         73799 non-null  int64  \n",
      " 1   app_date          73799 non-null  object \n",
      " 2   education         73492 non-null  object \n",
      " 3   sex               73799 non-null  object \n",
      " 4   age               73799 non-null  int64  \n",
      " 5   car               73799 non-null  object \n",
      " 6   car_type          73799 non-null  object \n",
      " 7   decline_app_cnt   73799 non-null  int64  \n",
      " 8   good_work         73799 non-null  int64  \n",
      " 9   score_bki         73799 non-null  float64\n",
      " 10  bki_request_cnt   73799 non-null  int64  \n",
      " 11  region_rating     73799 non-null  int64  \n",
      " 12  home_address      73799 non-null  int64  \n",
      " 13  work_address      73799 non-null  int64  \n",
      " 14  income            73799 non-null  int64  \n",
      " 15  sna               73799 non-null  int64  \n",
      " 16  first_time        73799 non-null  int64  \n",
      " 17  foreign_passport  73799 non-null  object \n",
      " 18  default           73799 non-null  float64\n",
      " 19  Train             73799 non-null  int64  \n",
      "dtypes: float64(2), int64(12), object(6)\n",
      "memory usage: 11.8+ MB\n"
     ]
    }
   ],
   "source": [
    "df[df['Train']==1].info()"
   ]
  },
  {
   "cell_type": "markdown",
   "metadata": {
    "papermill": {
     "duration": 0.101234,
     "end_time": "2020-12-08T14:38:48.107887",
     "exception": false,
     "start_time": "2020-12-08T14:38:48.006653",
     "status": "completed"
    },
    "tags": []
   },
   "source": [
    "Итак, в тренировочной выборке 73799 клиентов, в тестовой - 36349. Всего данные о 110148 клиентах. Признаков всего 20(в общем датасете с добавленной меткой Train), из них 1 - временной ряд, 6 бинарных, 7 категориальных и 8 числовых. Пропуски есть только в столбе education. client_id - идентификатор, который не влияет на целевую переменную.\n",
    "Описания полей датасета:\n",
    "\n",
    "    client_id - идентификатор клиента\n",
    "    education - уровень образования\n",
    "    sex - пол заемщика\n",
    "    age - возраст заемщика\n",
    "    car - флаг наличия автомобиля\n",
    "    car_type - флаг автомобиля иномарки\n",
    "    decline_app_cnt - количество отказанных прошлых заявок\n",
    "    good_work - флаг наличия “хорошей” работы\n",
    "    bki_request_cnt - количество запросов в БКИ\n",
    "    home_address - категоризатор домашнего адреса\n",
    "    work_address - категоризатор рабочего адреса\n",
    "    income - доход заемщика\n",
    "    foreign_passport - наличие загранпаспорта\n",
    "    sna - связь заемщика с клиентами банка\n",
    "    first_time - давность наличия информации о заемщике\n",
    "    score_bki - скоринговый балл по данным из БКИ\n",
    "    region_rating - рейтинг региона\n",
    "    app_date - дата подачи заявки\n",
    "    default - флаг дефолта по кредиту"
   ]
  },
  {
   "cell_type": "code",
   "execution_count": 6,
   "metadata": {
    "execution": {
     "iopub.execute_input": "2020-12-08T14:38:48.317140Z",
     "iopub.status.busy": "2020-12-08T14:38:48.316410Z",
     "iopub.status.idle": "2020-12-08T14:38:48.320511Z",
     "shell.execute_reply": "2020-12-08T14:38:48.319770Z"
    },
    "papermill": {
     "duration": 0.110803,
     "end_time": "2020-12-08T14:38:48.320639",
     "exception": false,
     "start_time": "2020-12-08T14:38:48.209836",
     "status": "completed"
    },
    "tags": []
   },
   "outputs": [],
   "source": [
    "# внесем данные из резюме в списки \n",
    "# временной ряд \n",
    "time_cols = ['app_date']\n",
    "# бинарные переменные\n",
    "bin_cols = ['sex', 'car', 'car_type', 'good_work', 'foreign_passport']\n",
    "# категориальные переменные \n",
    "cat_cols = ['education', 'region_rating', 'home_address', 'work_address', 'sna', 'first_time']\n",
    "# числовые переменные\n",
    "num_cols = ['age','decline_app_cnt','score_bki','bki_request_cnt','income']\n",
    "# client_id не включаем в списки"
   ]
  },
  {
   "cell_type": "markdown",
   "metadata": {
    "papermill": {
     "duration": 0.099215,
     "end_time": "2020-12-08T14:38:48.519951",
     "exception": false,
     "start_time": "2020-12-08T14:38:48.420736",
     "status": "completed"
    },
    "tags": []
   },
   "source": [
    "# 2.  EDA"
   ]
  },
  {
   "cell_type": "markdown",
   "metadata": {
    "papermill": {
     "duration": 0.101196,
     "end_time": "2020-12-08T14:38:48.721347",
     "exception": false,
     "start_time": "2020-12-08T14:38:48.620151",
     "status": "completed"
    },
    "tags": []
   },
   "source": [
    "Создадим функции для быстрого обзора признаков."
   ]
  },
  {
   "cell_type": "code",
   "execution_count": 7,
   "metadata": {
    "execution": {
     "iopub.execute_input": "2020-12-08T14:38:48.944852Z",
     "iopub.status.busy": "2020-12-08T14:38:48.944042Z",
     "iopub.status.idle": "2020-12-08T14:38:48.947685Z",
     "shell.execute_reply": "2020-12-08T14:38:48.946939Z"
    },
    "papermill": {
     "duration": 0.126787,
     "end_time": "2020-12-08T14:38:48.947812",
     "exception": false,
     "start_time": "2020-12-08T14:38:48.821025",
     "status": "completed"
    },
    "tags": []
   },
   "outputs": [],
   "source": [
    "#общая информация\n",
    "k = 1.5\n",
    "def view(col,data):\n",
    "    print('Кол-во строк:', len(data[str(col)]))\n",
    "    print('Кол-во Nan:', data[str(col)].isna().sum())\n",
    "    print('//////без логарифма///////')\n",
    "    IQR = data[str(col)].quantile(0.75) - data[str(col)].quantile(0.25)\n",
    "    perc25 = data[str(col)].quantile(0.25)\n",
    "    perc75 = data[str(col)].quantile(0.75)\n",
    "    print('Среднее:', data[str(col)].mean(), '\\nМедиана:', data[str(col)].median(), '\\nMin:',data[str(col)].min(), '\\nMax:', data[str(col)].max())\n",
    "    print(\"Границы выбросов: [{f}, {l}].\".format(f=perc25 - k*IQR, l=perc75 + k*IQR))\n",
    "    # Проверить!!!!!!\n",
    "    print('Кол-во выбросов:', len(data[data[str(col)]<perc25 - k*IQR]) + len(data[data[str(col)]>perc75 + k*IQR]))\n",
    "    if sum(data[col]<0) == 0:\n",
    "        print('//////если взять логарифм///////')\n",
    "        df = data[col].apply(lambda x: x+1).apply(log)\n",
    "        IQR = df.quantile(0.75) - df.quantile(0.25)\n",
    "        perc25 = df.quantile(0.25)\n",
    "        perc75 = df.quantile(0.75)\n",
    "        print('Среднее:', df.mean(), '\\nМедиана:', df.median(), '\\nMin:',df.min(), '\\nMax:', df.max())\n",
    "        print(\"Границы выбросов: [{f}, {l}].\".format(f=perc25 - k*IQR, l=perc75 + k*IQR))\n",
    "        print('Кол-во выбросов:', sum(df<(perc25 - k*IQR)) + sum(df>(perc75 + k*IQR)))\n",
    "    return None"
   ]
  },
  {
   "cell_type": "code",
   "execution_count": 8,
   "metadata": {
    "execution": {
     "iopub.execute_input": "2020-12-08T14:38:49.176743Z",
     "iopub.status.busy": "2020-12-08T14:38:49.175767Z",
     "iopub.status.idle": "2020-12-08T14:38:49.180617Z",
     "shell.execute_reply": "2020-12-08T14:38:49.179849Z"
    },
    "papermill": {
     "duration": 0.132611,
     "end_time": "2020-12-08T14:38:49.180748",
     "exception": false,
     "start_time": "2020-12-08T14:38:49.048137",
     "status": "completed"
    },
    "tags": []
   },
   "outputs": [],
   "source": [
    "#график\n",
    "def plot_with_log(col,data):\n",
    "    fig,axes = plt.subplots(2, 2, figsize = (15,10))\n",
    "    axes[0][0].hist(data[col])\n",
    "    axes[0][0].set_title('гистограмма празнака')\n",
    "    sns.boxplot(y=col, data=data, ax = axes[0][1])\n",
    "    axes[0][1].set_title('boxplot признака')\n",
    "    axes[1][0].hist(data[col].apply(lambda x: x+1).apply(log))\n",
    "    axes[1][0].set_title('гистограмма логарифмированного празнака')\n",
    "    sns.boxplot(y=data[col].apply(lambda x: x+1).apply(log), ax = axes[1][1])\n",
    "    axes[1][1].set_title('boxplot логарифмированного признака')"
   ]
  },
  {
   "cell_type": "markdown",
   "metadata": {
    "papermill": {
     "duration": 0.122976,
     "end_time": "2020-12-08T14:38:49.408920",
     "exception": false,
     "start_time": "2020-12-08T14:38:49.285944",
     "status": "completed"
    },
    "tags": []
   },
   "source": [
    "## 1.num_cols"
   ]
  },
  {
   "cell_type": "markdown",
   "metadata": {
    "papermill": {
     "duration": 0.100595,
     "end_time": "2020-12-08T14:38:49.610707",
     "exception": false,
     "start_time": "2020-12-08T14:38:49.510112",
     "status": "completed"
    },
    "tags": []
   },
   "source": [
    "1.1 age"
   ]
  },
  {
   "cell_type": "code",
   "execution_count": 9,
   "metadata": {
    "execution": {
     "iopub.execute_input": "2020-12-08T14:38:49.872511Z",
     "iopub.status.busy": "2020-12-08T14:38:49.871621Z",
     "iopub.status.idle": "2020-12-08T14:38:50.080425Z",
     "shell.execute_reply": "2020-12-08T14:38:50.079686Z"
    },
    "papermill": {
     "duration": 0.365756,
     "end_time": "2020-12-08T14:38:50.080600",
     "exception": false,
     "start_time": "2020-12-08T14:38:49.714844",
     "status": "completed"
    },
    "tags": []
   },
   "outputs": [
    {
     "name": "stdout",
     "output_type": "stream",
     "text": [
      "Кол-во строк: 73799\n",
      "Кол-во Nan: 0\n",
      "//////без логарифма///////\n",
      "Среднее: 39.280640659087524 \n",
      "Медиана: 37.0 \n",
      "Min: 21 \n",
      "Max: 72\n",
      "Границы выбросов: [3.0, 75.0].\n",
      "Кол-во выбросов: 0\n",
      "//////если взять логарифм///////\n",
      "Среднее: 3.655331671375122 \n",
      "Медиана: 3.6375861597263857 \n",
      "Min: 3.091042453358316 \n",
      "Max: 4.290459441148391\n",
      "Границы выбросов: [2.7472375640469258, 4.5785699385488465].\n",
      "Кол-во выбросов: 0\n"
     ]
    }
   ],
   "source": [
    "view('age', df[df.Train==1])"
   ]
  },
  {
   "cell_type": "code",
   "execution_count": 10,
   "metadata": {
    "execution": {
     "iopub.execute_input": "2020-12-08T14:38:50.319901Z",
     "iopub.status.busy": "2020-12-08T14:38:50.318623Z",
     "iopub.status.idle": "2020-12-08T14:38:51.470503Z",
     "shell.execute_reply": "2020-12-08T14:38:51.469801Z"
    },
    "papermill": {
     "duration": 1.274829,
     "end_time": "2020-12-08T14:38:51.470648",
     "exception": false,
     "start_time": "2020-12-08T14:38:50.195819",
     "status": "completed"
    },
    "tags": []
   },
   "outputs": [
    {
     "data": {
      "image/png": "[encoded data removed]",
      "text/plain": [
       "<Figure size 1080x720 with 4 Axes>"
      ]
     },
     "metadata": {
      "needs_background": "light"
     },
     "output_type": "display_data"
    }
   ],
   "source": [
    "plot_with_log('age', df[df.Train==1])"
   ]
  },
  {
   "cell_type": "markdown",
   "metadata": {
    "papermill": {
     "duration": 0.105379,
     "end_time": "2020-12-08T14:38:51.680019",
     "exception": false,
     "start_time": "2020-12-08T14:38:51.574640",
     "status": "completed"
    },
    "tags": []
   },
   "source": [
    "Распределение скорее логнормальное, выбросов нет. Возьмем логарифм от признака"
   ]
  },
  {
   "cell_type": "code",
   "execution_count": 11,
   "metadata": {
    "execution": {
     "iopub.execute_input": "2020-12-08T14:38:51.897151Z",
     "iopub.status.busy": "2020-12-08T14:38:51.896320Z",
     "iopub.status.idle": "2020-12-08T14:38:51.906614Z",
     "shell.execute_reply": "2020-12-08T14:38:51.905945Z"
    },
    "papermill": {
     "duration": 0.121638,
     "end_time": "2020-12-08T14:38:51.906776",
     "exception": false,
     "start_time": "2020-12-08T14:38:51.785138",
     "status": "completed"
    },
    "tags": []
   },
   "outputs": [],
   "source": [
    "df['age'] = np.log(df['age'] + 1)"
   ]
  },
  {
   "cell_type": "markdown",
   "metadata": {
    "papermill": {
     "duration": 0.104556,
     "end_time": "2020-12-08T14:38:52.114594",
     "exception": false,
     "start_time": "2020-12-08T14:38:52.010038",
     "status": "completed"
    },
    "tags": []
   },
   "source": [
    "1.2 decline_app_cnt "
   ]
  },
  {
   "cell_type": "code",
   "execution_count": 12,
   "metadata": {
    "execution": {
     "iopub.execute_input": "2020-12-08T14:38:52.329555Z",
     "iopub.status.busy": "2020-12-08T14:38:52.328810Z",
     "iopub.status.idle": "2020-12-08T14:38:52.504711Z",
     "shell.execute_reply": "2020-12-08T14:38:52.503821Z"
    },
    "papermill": {
     "duration": 0.285219,
     "end_time": "2020-12-08T14:38:52.504928",
     "exception": false,
     "start_time": "2020-12-08T14:38:52.219709",
     "status": "completed"
    },
    "tags": []
   },
   "outputs": [
    {
     "name": "stdout",
     "output_type": "stream",
     "text": [
      "Кол-во строк: 73799\n",
      "Кол-во Nan: 0\n",
      "//////без логарифма///////\n",
      "Среднее: 0.2757489938888061 \n",
      "Медиана: 0.0 \n",
      "Min: 0 \n",
      "Max: 33\n",
      "Границы выбросов: [0.0, 0.0].\n",
      "Кол-во выбросов: 12585\n",
      "//////если взять логарифм///////\n",
      "Среднее: 0.15245102815900716 \n",
      "Медиана: 0.0 \n",
      "Min: 0.0 \n",
      "Max: 3.5263605246161616\n",
      "Границы выбросов: [0.0, 0.0].\n",
      "Кол-во выбросов: 12585\n"
     ]
    }
   ],
   "source": [
    "view('decline_app_cnt', df[df.Train==1])"
   ]
  },
  {
   "cell_type": "code",
   "execution_count": 13,
   "metadata": {
    "execution": {
     "iopub.execute_input": "2020-12-08T14:38:52.722781Z",
     "iopub.status.busy": "2020-12-08T14:38:52.721893Z",
     "iopub.status.idle": "2020-12-08T14:38:53.865507Z",
     "shell.execute_reply": "2020-12-08T14:38:53.866133Z"
    },
    "papermill": {
     "duration": 1.256008,
     "end_time": "2020-12-08T14:38:53.866342",
     "exception": false,
     "start_time": "2020-12-08T14:38:52.610334",
     "status": "completed"
    },
    "tags": []
   },
   "outputs": [
    {
     "data": {
      "image/png": "[encoded data removed]",
      "text/plain": [
       "<Figure size 1080x720 with 4 Axes>"
      ]
     },
     "metadata": {
      "needs_background": "light"
     },
     "output_type": "display_data"
    }
   ],
   "source": [
    "plot_with_log('decline_app_cnt', df[df.Train==1])"
   ]
  },
  {
   "cell_type": "code",
   "execution_count": 14,
   "metadata": {
    "execution": {
     "iopub.execute_input": "2020-12-08T14:38:54.088197Z",
     "iopub.status.busy": "2020-12-08T14:38:54.087445Z",
     "iopub.status.idle": "2020-12-08T14:38:54.108497Z",
     "shell.execute_reply": "2020-12-08T14:38:54.107823Z"
    },
    "papermill": {
     "duration": 0.133843,
     "end_time": "2020-12-08T14:38:54.108651",
     "exception": false,
     "start_time": "2020-12-08T14:38:53.974808",
     "status": "completed"
    },
    "tags": []
   },
   "outputs": [
    {
     "data": {
      "text/plain": [
       "23"
      ]
     },
     "execution_count": 14,
     "metadata": {},
     "output_type": "execute_result"
    }
   ],
   "source": [
    "tr_df = df[df.Train==1]\n",
    "len(tr_df[tr_df['decline_app_cnt']>10])"
   ]
  },
  {
   "cell_type": "code",
   "execution_count": 15,
   "metadata": {
    "execution": {
     "iopub.execute_input": "2020-12-08T14:38:54.334708Z",
     "iopub.status.busy": "2020-12-08T14:38:54.333551Z",
     "iopub.status.idle": "2020-12-08T14:38:54.343129Z",
     "shell.execute_reply": "2020-12-08T14:38:54.342434Z"
    },
    "papermill": {
     "duration": 0.124411,
     "end_time": "2020-12-08T14:38:54.343286",
     "exception": false,
     "start_time": "2020-12-08T14:38:54.218875",
     "status": "completed"
    },
    "tags": []
   },
   "outputs": [
    {
     "data": {
      "text/plain": [
       "1720"
      ]
     },
     "execution_count": 15,
     "metadata": {},
     "output_type": "execute_result"
    }
   ],
   "source": [
    "len(tr_df[tr_df['decline_app_cnt']>2])"
   ]
  },
  {
   "cell_type": "code",
   "execution_count": 16,
   "metadata": {
    "execution": {
     "iopub.execute_input": "2020-12-08T14:38:54.566456Z",
     "iopub.status.busy": "2020-12-08T14:38:54.564881Z",
     "iopub.status.idle": "2020-12-08T14:38:54.929608Z",
     "shell.execute_reply": "2020-12-08T14:38:54.928810Z"
    },
    "papermill": {
     "duration": 0.479001,
     "end_time": "2020-12-08T14:38:54.929763",
     "exception": false,
     "start_time": "2020-12-08T14:38:54.450762",
     "status": "completed"
    },
    "tags": []
   },
   "outputs": [
    {
     "data": {
      "text/plain": [
       "<matplotlib.axes._subplots.AxesSubplot at 0x21756dacc88>"
      ]
     },
     "execution_count": 16,
     "metadata": {},
     "output_type": "execute_result"
    },
    {
     "data": {
      "image/png": "[encoded data removed]",
      "text/plain": [
       "<Figure size 432x288 with 1 Axes>"
      ]
     },
     "metadata": {
      "needs_background": "light"
     },
     "output_type": "display_data"
    }
   ],
   "source": [
    "tr_df[tr_df['decline_app_cnt']<4]['decline_app_cnt'].hist()"
   ]
  },
  {
   "cell_type": "markdown",
   "metadata": {
    "papermill": {
     "duration": 0.109869,
     "end_time": "2020-12-08T14:38:55.148448",
     "exception": false,
     "start_time": "2020-12-08T14:38:55.038579",
     "status": "completed"
    },
    "tags": []
   },
   "source": [
    "Выборосов, если считать по IQR, очень много. Очень большая часть значений лежит в (0,4). Оставим пока признак как есть."
   ]
  },
  {
   "cell_type": "markdown",
   "metadata": {
    "papermill": {
     "duration": 0.130119,
     "end_time": "2020-12-08T14:38:55.391722",
     "exception": false,
     "start_time": "2020-12-08T14:38:55.261603",
     "status": "completed"
    },
    "tags": []
   },
   "source": [
    "1.3 bki_request_cnt"
   ]
  },
  {
   "cell_type": "code",
   "execution_count": 17,
   "metadata": {
    "execution": {
     "iopub.execute_input": "2020-12-08T14:38:55.613466Z",
     "iopub.status.busy": "2020-12-08T14:38:55.612604Z",
     "iopub.status.idle": "2020-12-08T14:38:55.782432Z",
     "shell.execute_reply": "2020-12-08T14:38:55.780989Z"
    },
    "papermill": {
     "duration": 0.283483,
     "end_time": "2020-12-08T14:38:55.782654",
     "exception": false,
     "start_time": "2020-12-08T14:38:55.499171",
     "status": "completed"
    },
    "tags": []
   },
   "outputs": [
    {
     "name": "stdout",
     "output_type": "stream",
     "text": [
      "Кол-во строк: 73799\n",
      "Кол-во Nan: 0\n",
      "//////без логарифма///////\n",
      "Среднее: 2.0003387579777505 \n",
      "Медиана: 1.0 \n",
      "Min: 0 \n",
      "Max: 53\n",
      "Границы выбросов: [-4.5, 7.5].\n",
      "Кол-во выбросов: 1755\n",
      "//////если взять логарифм///////\n",
      "Среднее: 0.8780139042374759 \n",
      "Медиана: 0.6931471805599453 \n",
      "Min: 0.0 \n",
      "Max: 3.9889840465642745\n",
      "Границы выбросов: [-2.0794415416798357, 3.465735902799726].\n",
      "Кол-во выбросов: 9\n"
     ]
    }
   ],
   "source": [
    "view('bki_request_cnt', df[df.Train==1])"
   ]
  },
  {
   "cell_type": "code",
   "execution_count": 18,
   "metadata": {
    "execution": {
     "iopub.execute_input": "2020-12-08T14:38:56.007872Z",
     "iopub.status.busy": "2020-12-08T14:38:56.007091Z",
     "iopub.status.idle": "2020-12-08T14:38:57.237581Z",
     "shell.execute_reply": "2020-12-08T14:38:57.236754Z"
    },
    "papermill": {
     "duration": 1.345856,
     "end_time": "2020-12-08T14:38:57.237724",
     "exception": false,
     "start_time": "2020-12-08T14:38:55.891868",
     "status": "completed"
    },
    "tags": []
   },
   "outputs": [
    {
     "data": {
      "image/png": "[encoded data removed]",
      "text/plain": [
       "<Figure size 1080x720 with 4 Axes>"
      ]
     },
     "metadata": {
      "needs_background": "light"
     },
     "output_type": "display_data"
    }
   ],
   "source": [
    "plot_with_log('bki_request_cnt', df[df.Train==1])"
   ]
  },
  {
   "cell_type": "markdown",
   "metadata": {
    "papermill": {
     "duration": 0.110555,
     "end_time": "2020-12-08T14:38:57.459978",
     "exception": false,
     "start_time": "2020-12-08T14:38:57.349423",
     "status": "completed"
    },
    "tags": []
   },
   "source": [
    "Если взять логарифм, то максимальное значение близко к правой границе выбросов. Распределение логнормальное."
   ]
  },
  {
   "cell_type": "code",
   "execution_count": 19,
   "metadata": {
    "execution": {
     "iopub.execute_input": "2020-12-08T14:38:57.690290Z",
     "iopub.status.busy": "2020-12-08T14:38:57.689499Z",
     "iopub.status.idle": "2020-12-08T14:38:57.700157Z",
     "shell.execute_reply": "2020-12-08T14:38:57.699473Z"
    },
    "papermill": {
     "duration": 0.127924,
     "end_time": "2020-12-08T14:38:57.700324",
     "exception": false,
     "start_time": "2020-12-08T14:38:57.572400",
     "status": "completed"
    },
    "tags": []
   },
   "outputs": [],
   "source": [
    "df['bki_request_cnt'] = np.log(df['bki_request_cnt'] + 1)"
   ]
  },
  {
   "cell_type": "markdown",
   "metadata": {
    "papermill": {
     "duration": 0.112488,
     "end_time": "2020-12-08T14:38:57.926025",
     "exception": false,
     "start_time": "2020-12-08T14:38:57.813537",
     "status": "completed"
    },
    "tags": []
   },
   "source": [
    "1.4 income"
   ]
  },
  {
   "cell_type": "code",
   "execution_count": 20,
   "metadata": {
    "execution": {
     "iopub.execute_input": "2020-12-08T14:38:58.159423Z",
     "iopub.status.busy": "2020-12-08T14:38:58.158610Z",
     "iopub.status.idle": "2020-12-08T14:38:58.337826Z",
     "shell.execute_reply": "2020-12-08T14:38:58.336911Z"
    },
    "papermill": {
     "duration": 0.299572,
     "end_time": "2020-12-08T14:38:58.337987",
     "exception": false,
     "start_time": "2020-12-08T14:38:58.038415",
     "status": "completed"
    },
    "tags": []
   },
   "outputs": [
    {
     "name": "stdout",
     "output_type": "stream",
     "text": [
      "Кол-во строк: 73799\n",
      "Кол-во Nan: 0\n",
      "//////без логарифма///////\n",
      "Среднее: 41099.77541701107 \n",
      "Медиана: 30000.0 \n",
      "Min: 1000 \n",
      "Max: 1000000\n",
      "Границы выбросов: [-22000.0, 90000.0].\n",
      "Кол-во выбросов: 4695\n",
      "//////если взять логарифм///////\n",
      "Среднее: 10.345885575691275 \n",
      "Медиана: 10.308985993422082 \n",
      "Min: 6.90875477931522 \n",
      "Max: 13.815511557963774\n",
      "Границы выбросов: [8.590378193705899, 12.092136480586621].\n",
      "Кол-во выбросов: 1767\n"
     ]
    }
   ],
   "source": [
    "view('income', df[df.Train==1])"
   ]
  },
  {
   "cell_type": "code",
   "execution_count": 21,
   "metadata": {
    "execution": {
     "iopub.execute_input": "2020-12-08T14:38:58.572336Z",
     "iopub.status.busy": "2020-12-08T14:38:58.571010Z",
     "iopub.status.idle": "2020-12-08T14:38:59.676183Z",
     "shell.execute_reply": "2020-12-08T14:38:59.675551Z"
    },
    "papermill": {
     "duration": 1.226055,
     "end_time": "2020-12-08T14:38:59.676332",
     "exception": false,
     "start_time": "2020-12-08T14:38:58.450277",
     "status": "completed"
    },
    "tags": []
   },
   "outputs": [
    {
     "data": {
      "image/png": "[encoded data removed]",
      "text/plain": [
       "<Figure size 1080x720 with 4 Axes>"
      ]
     },
     "metadata": {
      "needs_background": "light"
     },
     "output_type": "display_data"
    }
   ],
   "source": [
    "plot_with_log('income', df[df.Train==1])"
   ]
  },
  {
   "cell_type": "markdown",
   "metadata": {
    "papermill": {
     "duration": 0.111025,
     "end_time": "2020-12-08T14:38:59.901096",
     "exception": false,
     "start_time": "2020-12-08T14:38:59.790071",
     "status": "completed"
    },
    "tags": []
   },
   "source": [
    "Распределение логнормальное. Выбросов много даже после логарифмирования. Оставим пока там, по необходимости потом вернемся."
   ]
  },
  {
   "cell_type": "code",
   "execution_count": 22,
   "metadata": {
    "execution": {
     "iopub.execute_input": "2020-12-08T14:39:00.134251Z",
     "iopub.status.busy": "2020-12-08T14:39:00.133513Z",
     "iopub.status.idle": "2020-12-08T14:39:00.145347Z",
     "shell.execute_reply": "2020-12-08T14:39:00.144739Z"
    },
    "papermill": {
     "duration": 0.131317,
     "end_time": "2020-12-08T14:39:00.145482",
     "exception": false,
     "start_time": "2020-12-08T14:39:00.014165",
     "status": "completed"
    },
    "tags": []
   },
   "outputs": [],
   "source": [
    "df['income'] = np.log(df['income'] + 1)"
   ]
  },
  {
   "cell_type": "markdown",
   "metadata": {
    "papermill": {
     "duration": 0.111588,
     "end_time": "2020-12-08T14:39:00.369329",
     "exception": false,
     "start_time": "2020-12-08T14:39:00.257741",
     "status": "completed"
    },
    "tags": []
   },
   "source": [
    "1.5 score_bki"
   ]
  },
  {
   "cell_type": "code",
   "execution_count": 23,
   "metadata": {
    "execution": {
     "iopub.execute_input": "2020-12-08T14:39:00.608672Z",
     "iopub.status.busy": "2020-12-08T14:39:00.606757Z",
     "iopub.status.idle": "2020-12-08T14:39:00.963889Z",
     "shell.execute_reply": "2020-12-08T14:39:00.963129Z"
    },
    "papermill": {
     "duration": 0.482626,
     "end_time": "2020-12-08T14:39:00.964025",
     "exception": false,
     "start_time": "2020-12-08T14:39:00.481399",
     "status": "completed"
    },
    "tags": []
   },
   "outputs": [
    {
     "data": {
      "text/plain": [
       "<matplotlib.axes._subplots.AxesSubplot at 0x21754cf6a88>"
      ]
     },
     "execution_count": 23,
     "metadata": {},
     "output_type": "execute_result"
    },
    {
     "data": {
      "image/png": "[encoded data removed]",
      "text/plain": [
       "<Figure size 432x288 with 1 Axes>"
      ]
     },
     "metadata": {
      "needs_background": "light"
     },
     "output_type": "display_data"
    }
   ],
   "source": [
    "df.score_bki.hist()"
   ]
  },
  {
   "cell_type": "code",
   "execution_count": 24,
   "metadata": {
    "execution": {
     "iopub.execute_input": "2020-12-08T14:39:01.201240Z",
     "iopub.status.busy": "2020-12-08T14:39:01.199686Z",
     "iopub.status.idle": "2020-12-08T14:39:01.253556Z",
     "shell.execute_reply": "2020-12-08T14:39:01.252802Z"
    },
    "papermill": {
     "duration": 0.176341,
     "end_time": "2020-12-08T14:39:01.253716",
     "exception": false,
     "start_time": "2020-12-08T14:39:01.077375",
     "status": "completed"
    },
    "tags": []
   },
   "outputs": [
    {
     "name": "stdout",
     "output_type": "stream",
     "text": [
      "Кол-во строк: 73799\n",
      "Кол-во Nan: 0\n",
      "//////без логарифма///////\n",
      "Среднее: -1.9047236272216417 \n",
      "Медиана: -1.92082293 \n",
      "Min: -3.62458632 \n",
      "Max: 0.19977285\n",
      "Границы выбросов: [-3.2940876975, -0.5352773974999998].\n",
      "Кол-во выбросов: 351\n"
     ]
    }
   ],
   "source": [
    "view('score_bki', df[df.Train==1])"
   ]
  },
  {
   "cell_type": "markdown",
   "metadata": {
    "papermill": {
     "duration": 0.114759,
     "end_time": "2020-12-08T14:39:01.486199",
     "exception": false,
     "start_time": "2020-12-08T14:39:01.371440",
     "status": "completed"
    },
    "tags": []
   },
   "source": [
    "Рапрседеление нормальное. Выбросов не много."
   ]
  },
  {
   "cell_type": "markdown",
   "metadata": {
    "papermill": {
     "duration": 0.114367,
     "end_time": "2020-12-08T14:39:01.715470",
     "exception": false,
     "start_time": "2020-12-08T14:39:01.601103",
     "status": "completed"
    },
    "tags": []
   },
   "source": [
    "## 2.cat_cols"
   ]
  },
  {
   "cell_type": "code",
   "execution_count": 25,
   "metadata": {
    "execution": {
     "iopub.execute_input": "2020-12-08T14:39:01.962638Z",
     "iopub.status.busy": "2020-12-08T14:39:01.955979Z",
     "iopub.status.idle": "2020-12-08T14:39:03.970671Z",
     "shell.execute_reply": "2020-12-08T14:39:03.969913Z"
    },
    "papermill": {
     "duration": 2.139707,
     "end_time": "2020-12-08T14:39:03.970808",
     "exception": false,
     "start_time": "2020-12-08T14:39:01.831101",
     "status": "completed"
    },
    "tags": []
   },
   "outputs": [
    {
     "data": {
      "image/png": "[encoded data removed]",
      "text/plain": [
       "<Figure size 432x288 with 1 Axes>"
      ]
     },
     "metadata": {
      "needs_background": "light"
     },
     "output_type": "display_data"
    },
    {
     "data": {
      "image/png": "[encoded data removed]",
      "text/plain": [
       "<Figure size 432x288 with 1 Axes>"
      ]
     },
     "metadata": {
      "needs_background": "light"
     },
     "output_type": "display_data"
    },
    {
     "data": {
      "image/png": "[encoded data removed]",
      "text/plain": [
       "<Figure size 432x288 with 1 Axes>"
      ]
     },
     "metadata": {
      "needs_background": "light"
     },
     "output_type": "display_data"
    },
    {
     "data": {
      "image/png": "[encoded data removed]",
      "text/plain": [
       "<Figure size 432x288 with 1 Axes>"
      ]
     },
     "metadata": {
      "needs_background": "light"
     },
     "output_type": "display_data"
    },
    {
     "data": {
      "image/png": "[encoded data removed]",
      "text/plain": [
       "<Figure size 432x288 with 1 Axes>"
      ]
     },
     "metadata": {
      "needs_background": "light"
     },
     "output_type": "display_data"
    },
    {
     "data": {
      "image/png": "[encoded data removed]",
      "text/plain": [
       "<Figure size 432x288 with 1 Axes>"
      ]
     },
     "metadata": {
      "needs_background": "light"
     },
     "output_type": "display_data"
    }
   ],
   "source": [
    "for column in cat_cols:\n",
    "    fig = plt.figure()\n",
    "    axes = fig.add_axes([0, 0, 1.5, 1.5])\n",
    "    df[column].hist(ax=axes)\n",
    "    plt.suptitle(column, fontsize='xx-large',x=0.75, y=1.5)"
   ]
  },
  {
   "cell_type": "markdown",
   "metadata": {
    "papermill": {
     "duration": 0.120839,
     "end_time": "2020-12-08T14:39:04.211305",
     "exception": false,
     "start_time": "2020-12-08T14:39:04.090466",
     "status": "completed"
    },
    "tags": []
   },
   "source": [
    "Из общего обзора помним, что для признака education:\n",
    "1) есть пропуски\n",
    "2) значения не числовые"
   ]
  },
  {
   "cell_type": "code",
   "execution_count": 26,
   "metadata": {
    "execution": {
     "iopub.execute_input": "2020-12-08T14:39:04.487110Z",
     "iopub.status.busy": "2020-12-08T14:39:04.486132Z",
     "iopub.status.idle": "2020-12-08T14:39:04.492417Z",
     "shell.execute_reply": "2020-12-08T14:39:04.491791Z"
    },
    "papermill": {
     "duration": 0.161326,
     "end_time": "2020-12-08T14:39:04.492555",
     "exception": false,
     "start_time": "2020-12-08T14:39:04.331229",
     "status": "completed"
    },
    "tags": []
   },
   "outputs": [
    {
     "data": {
      "text/plain": [
       "478"
      ]
     },
     "execution_count": 26,
     "metadata": {},
     "output_type": "execute_result"
    }
   ],
   "source": [
    "sum(df.education.isna())"
   ]
  },
  {
   "cell_type": "code",
   "execution_count": 27,
   "metadata": {
    "execution": {
     "iopub.execute_input": "2020-12-08T14:39:04.752129Z",
     "iopub.status.busy": "2020-12-08T14:39:04.751289Z",
     "iopub.status.idle": "2020-12-08T14:39:04.759447Z",
     "shell.execute_reply": "2020-12-08T14:39:04.758565Z"
    },
    "papermill": {
     "duration": 0.146409,
     "end_time": "2020-12-08T14:39:04.759602",
     "exception": false,
     "start_time": "2020-12-08T14:39:04.613193",
     "status": "completed"
    },
    "tags": []
   },
   "outputs": [],
   "source": [
    "#заполняем пропуски модой\n",
    "df['education'] = df['education'].fillna('SCH')"
   ]
  },
  {
   "cell_type": "code",
   "execution_count": 28,
   "metadata": {
    "execution": {
     "iopub.execute_input": "2020-12-08T14:39:05.054341Z",
     "iopub.status.busy": "2020-12-08T14:39:05.053521Z",
     "iopub.status.idle": "2020-12-08T14:39:05.064992Z",
     "shell.execute_reply": "2020-12-08T14:39:05.064194Z"
    },
    "papermill": {
     "duration": 0.183142,
     "end_time": "2020-12-08T14:39:05.065136",
     "exception": false,
     "start_time": "2020-12-08T14:39:04.881994",
     "status": "completed"
    },
    "tags": []
   },
   "outputs": [
    {
     "data": {
      "text/plain": [
       "array([3, 1, 4, 2, 0])"
      ]
     },
     "execution_count": 28,
     "metadata": {},
     "output_type": "execute_result"
    }
   ],
   "source": [
    "# Преобразуем education в целочисленный формат\n",
    "label_encoder = LabelEncoder()\n",
    "df['education'] = label_encoder.fit_transform(df['education'])\n",
    "df.education.unique()"
   ]
  },
  {
   "cell_type": "markdown",
   "metadata": {
    "papermill": {
     "duration": 0.121887,
     "end_time": "2020-12-08T14:39:05.310412",
     "exception": false,
     "start_time": "2020-12-08T14:39:05.188525",
     "status": "completed"
    },
    "tags": []
   },
   "source": [
    "## 3.bin_cols"
   ]
  },
  {
   "cell_type": "code",
   "execution_count": 29,
   "metadata": {
    "execution": {
     "iopub.execute_input": "2020-12-08T14:39:05.569097Z",
     "iopub.status.busy": "2020-12-08T14:39:05.567968Z",
     "iopub.status.idle": "2020-12-08T14:39:06.917655Z",
     "shell.execute_reply": "2020-12-08T14:39:06.916809Z"
    },
    "papermill": {
     "duration": 1.484872,
     "end_time": "2020-12-08T14:39:06.917812",
     "exception": false,
     "start_time": "2020-12-08T14:39:05.432940",
     "status": "completed"
    },
    "tags": []
   },
   "outputs": [
    {
     "data": {
      "image/png": "[encoded data removed]",
      "text/plain": [
       "<Figure size 432x288 with 1 Axes>"
      ]
     },
     "metadata": {
      "needs_background": "light"
     },
     "output_type": "display_data"
    },
    {
     "data": {
      "image/png": "[encoded data removed]",
      "text/plain": [
       "<Figure size 432x288 with 1 Axes>"
      ]
     },
     "metadata": {
      "needs_background": "light"
     },
     "output_type": "display_data"
    },
    {
     "data": {
      "image/png": "[encoded data removed]",
      "text/plain": [
       "<Figure size 432x288 with 1 Axes>"
      ]
     },
     "metadata": {
      "needs_background": "light"
     },
     "output_type": "display_data"
    },
    {
     "data": {
      "image/png": "[encoded data removed]",
      "text/plain": [
       "<Figure size 432x288 with 1 Axes>"
      ]
     },
     "metadata": {
      "needs_background": "light"
     },
     "output_type": "display_data"
    },
    {
     "data": {
      "image/png": "[encoded data removed]",
      "text/plain": [
       "<Figure size 432x288 with 1 Axes>"
      ]
     },
     "metadata": {
      "needs_background": "light"
     },
     "output_type": "display_data"
    }
   ],
   "source": [
    "for column in bin_cols:\n",
    "    fig = plt.figure()\n",
    "    axes = fig.add_axes([0, 0, 1.5, 1.5])\n",
    "    df[column].hist(ax=axes)\n",
    "    plt.suptitle(column, fontsize='xx-large',x=0.75, y=1.5)"
   ]
  },
  {
   "cell_type": "code",
   "execution_count": 30,
   "metadata": {
    "execution": {
     "iopub.execute_input": "2020-12-08T14:39:07.251402Z",
     "iopub.status.busy": "2020-12-08T14:39:07.250158Z",
     "iopub.status.idle": "2020-12-08T14:39:07.398970Z",
     "shell.execute_reply": "2020-12-08T14:39:07.398312Z"
    },
    "papermill": {
     "duration": 0.351688,
     "end_time": "2020-12-08T14:39:07.399122",
     "exception": false,
     "start_time": "2020-12-08T14:39:07.047434",
     "status": "completed"
    },
    "tags": []
   },
   "outputs": [],
   "source": [
    "# Преобразуем бинарные признаки с помощью LabelEncoder\n",
    "label_encoder = LabelEncoder()\n",
    "for column in bin_cols:\n",
    "    df[column] = label_encoder.fit_transform(df[column])"
   ]
  },
  {
   "cell_type": "markdown",
   "metadata": {
    "papermill": {
     "duration": 0.128685,
     "end_time": "2020-12-08T14:39:07.655539",
     "exception": false,
     "start_time": "2020-12-08T14:39:07.526854",
     "status": "completed"
    },
    "tags": []
   },
   "source": [
    "## app_date - числовой ряд"
   ]
  },
  {
   "cell_type": "code",
   "execution_count": 31,
   "metadata": {
    "execution": {
     "iopub.execute_input": "2020-12-08T14:39:07.931218Z",
     "iopub.status.busy": "2020-12-08T14:39:07.924814Z",
     "iopub.status.idle": "2020-12-08T14:39:07.959828Z",
     "shell.execute_reply": "2020-12-08T14:39:07.959126Z"
    },
    "papermill": {
     "duration": 0.173217,
     "end_time": "2020-12-08T14:39:07.959975",
     "exception": false,
     "start_time": "2020-12-08T14:39:07.786758",
     "status": "completed"
    },
    "tags": []
   },
   "outputs": [],
   "source": [
    "df.app_date = pd.to_datetime(df.app_date, format='%d%b%Y')"
   ]
  },
  {
   "cell_type": "code",
   "execution_count": 32,
   "metadata": {
    "execution": {
     "iopub.execute_input": "2020-12-08T14:39:08.220900Z",
     "iopub.status.busy": "2020-12-08T14:39:08.219903Z",
     "iopub.status.idle": "2020-12-08T14:39:08.229162Z",
     "shell.execute_reply": "2020-12-08T14:39:08.228543Z"
    },
    "papermill": {
     "duration": 0.142727,
     "end_time": "2020-12-08T14:39:08.229323",
     "exception": false,
     "start_time": "2020-12-08T14:39:08.086596",
     "status": "completed"
    },
    "tags": []
   },
   "outputs": [
    {
     "data": {
      "text/plain": [
       "(Timestamp('2014-01-01 00:00:00'), Timestamp('2014-04-30 00:00:00'))"
      ]
     },
     "execution_count": 32,
     "metadata": {},
     "output_type": "execute_result"
    }
   ],
   "source": [
    "# начало и конец периода\n",
    "start = df.app_date.min()\n",
    "end = df.app_date.max()\n",
    "start,end"
   ]
  },
  {
   "cell_type": "markdown",
   "metadata": {
    "papermill": {
     "duration": 0.126446,
     "end_time": "2020-12-08T14:39:08.482606",
     "exception": false,
     "start_time": "2020-12-08T14:39:08.356160",
     "status": "completed"
    },
    "tags": []
   },
   "source": [
    "Заявки пдавались только в первые 4 месяца 2014 года. Причем в первый месяц заяков подано немного больше, чем в остальные"
   ]
  },
  {
   "cell_type": "code",
   "execution_count": 33,
   "metadata": {
    "execution": {
     "iopub.execute_input": "2020-12-08T14:39:08.741419Z",
     "iopub.status.busy": "2020-12-08T14:39:08.740623Z",
     "iopub.status.idle": "2020-12-08T14:39:08.921077Z",
     "shell.execute_reply": "2020-12-08T14:39:08.920278Z"
    },
    "papermill": {
     "duration": 0.312346,
     "end_time": "2020-12-08T14:39:08.921226",
     "exception": false,
     "start_time": "2020-12-08T14:39:08.608880",
     "status": "completed"
    },
    "tags": []
   },
   "outputs": [
    {
     "data": {
      "text/plain": [
       "<matplotlib.axes._subplots.AxesSubplot at 0x21756bc8c48>"
      ]
     },
     "execution_count": 33,
     "metadata": {},
     "output_type": "execute_result"
    },
    {
     "data": {
      "image/png": "[encoded data removed]",
      "text/plain": [
       "<Figure size 432x288 with 1 Axes>"
      ]
     },
     "metadata": {
      "needs_background": "light"
     },
     "output_type": "display_data"
    }
   ],
   "source": [
    "df['app_date'].dt.month.value_counts().plot.bar()"
   ]
  },
  {
   "cell_type": "code",
   "execution_count": 34,
   "metadata": {
    "execution": {
     "iopub.execute_input": "2020-12-08T14:39:09.191962Z",
     "iopub.status.busy": "2020-12-08T14:39:09.191207Z",
     "iopub.status.idle": "2020-12-08T14:39:11.390195Z",
     "shell.execute_reply": "2020-12-08T14:39:11.389460Z"
    },
    "papermill": {
     "duration": 2.336978,
     "end_time": "2020-12-08T14:39:11.390343",
     "exception": false,
     "start_time": "2020-12-08T14:39:09.053365",
     "status": "completed"
    },
    "tags": []
   },
   "outputs": [
    {
     "data": {
      "image/png": "[encoded data removed]",
      "text/plain": [
       "<Figure size 432x288 with 1 Axes>"
      ]
     },
     "metadata": {
      "needs_background": "light"
     },
     "output_type": "display_data"
    },
    {
     "data": {
      "image/png": "[encoded data removed]",
      "text/plain": [
       "<Figure size 432x288 with 1 Axes>"
      ]
     },
     "metadata": {
      "needs_background": "light"
     },
     "output_type": "display_data"
    },
    {
     "data": {
      "image/png": "[encoded data removed]",
      "text/plain": [
       "<Figure size 432x288 with 1 Axes>"
      ]
     },
     "metadata": {
      "needs_background": "light"
     },
     "output_type": "display_data"
    },
    {
     "data": {
      "image/png": "[encoded data removed]",
      "text/plain": [
       "<Figure size 432x288 with 1 Axes>"
      ]
     },
     "metadata": {
      "needs_background": "light"
     },
     "output_type": "display_data"
    }
   ],
   "source": [
    "df['month'] = df['app_date'].dt.month\n",
    "for i in [1,2,3,4]:\n",
    "    plt.figure()\n",
    "    sns.countplot(x=df[df.month == i]['app_date'].dt.day, data=df[df.month == i])\n",
    "    plt.show()"
   ]
  },
  {
   "cell_type": "markdown",
   "metadata": {
    "papermill": {
     "duration": 0.132766,
     "end_time": "2020-12-08T14:39:11.654464",
     "exception": false,
     "start_time": "2020-12-08T14:39:11.521698",
     "status": "completed"
    },
    "tags": []
   },
   "source": [
    "распределение по дням более-менее равномерное, перескоков нет"
   ]
  },
  {
   "cell_type": "code",
   "execution_count": 35,
   "metadata": {
    "execution": {
     "iopub.execute_input": "2020-12-08T14:39:11.929431Z",
     "iopub.status.busy": "2020-12-08T14:39:11.928361Z",
     "iopub.status.idle": "2020-12-08T14:39:11.939653Z",
     "shell.execute_reply": "2020-12-08T14:39:11.938906Z"
    },
    "papermill": {
     "duration": 0.151401,
     "end_time": "2020-12-08T14:39:11.939797",
     "exception": false,
     "start_time": "2020-12-08T14:39:11.788396",
     "status": "completed"
    },
    "tags": []
   },
   "outputs": [],
   "source": [
    "# Вводим новый признак - номер дня с даты первой заявки\n",
    "df['days'] = (df.app_date - start).dt.days.astype('int')\n",
    "num_cols.append('days')"
   ]
  },
  {
   "cell_type": "code",
   "execution_count": 36,
   "metadata": {
    "execution": {
     "iopub.execute_input": "2020-12-08T14:39:12.216445Z",
     "iopub.status.busy": "2020-12-08T14:39:12.215681Z",
     "iopub.status.idle": "2020-12-08T14:39:12.219818Z",
     "shell.execute_reply": "2020-12-08T14:39:12.219135Z"
    },
    "papermill": {
     "duration": 0.14354,
     "end_time": "2020-12-08T14:39:12.219984",
     "exception": false,
     "start_time": "2020-12-08T14:39:12.076444",
     "status": "completed"
    },
    "tags": []
   },
   "outputs": [],
   "source": [
    "num_cols += ['days']"
   ]
  },
  {
   "cell_type": "markdown",
   "metadata": {
    "papermill": {
     "duration": 0.133693,
     "end_time": "2020-12-08T14:39:12.488293",
     "exception": false,
     "start_time": "2020-12-08T14:39:12.354600",
     "status": "completed"
    },
    "tags": []
   },
   "source": [
    "## Оценка коррелиций"
   ]
  },
  {
   "cell_type": "code",
   "execution_count": 37,
   "metadata": {
    "execution": {
     "iopub.execute_input": "2020-12-08T14:39:12.772792Z",
     "iopub.status.busy": "2020-12-08T14:39:12.767482Z",
     "iopub.status.idle": "2020-12-08T14:39:13.330181Z",
     "shell.execute_reply": "2020-12-08T14:39:13.330876Z"
    },
    "papermill": {
     "duration": 0.707272,
     "end_time": "2020-12-08T14:39:13.331081",
     "exception": false,
     "start_time": "2020-12-08T14:39:12.623809",
     "status": "completed"
    },
    "tags": []
   },
   "outputs": [
    {
     "data": {
      "image/png": "[encoded data removed]",
      "text/plain": [
       "<Figure size 720x576 with 2 Axes>"
      ]
     },
     "metadata": {
      "needs_background": "light"
     },
     "output_type": "display_data"
    }
   ],
   "source": [
    "fig, ax = plt.subplots(1,1, figsize = (10,8))\n",
    "ax = sns.heatmap(df.loc[:,num_cols].corr(),annot = True, cmap = 'coolwarm')"
   ]
  },
  {
   "cell_type": "markdown",
   "metadata": {
    "papermill": {
     "duration": 0.133805,
     "end_time": "2020-12-08T14:39:13.603985",
     "exception": false,
     "start_time": "2020-12-08T14:39:13.470180",
     "status": "completed"
    },
    "tags": []
   },
   "source": [
    "сильно скорелированных между собой признаков нет, все берем в работу"
   ]
  },
  {
   "cell_type": "markdown",
   "metadata": {
    "papermill": {
     "duration": 0.134086,
     "end_time": "2020-12-08T14:39:13.872545",
     "exception": false,
     "start_time": "2020-12-08T14:39:13.738459",
     "status": "completed"
    },
    "tags": []
   },
   "source": [
    "Для оценки значимости числовых переменных будем использовать функцию f_classif из библиотеки sklearn.\n",
    "\n",
    "В качестве меры значимости будем использовать значение f -статистики. Чем значение статистики выше, тем меньше вероятность того, что средние значения не отличаются, и тем важнее данный признак для нашей линейной модели."
   ]
  },
  {
   "cell_type": "code",
   "execution_count": 38,
   "metadata": {
    "execution": {
     "iopub.execute_input": "2020-12-08T14:39:14.149953Z",
     "iopub.status.busy": "2020-12-08T14:39:14.149195Z",
     "iopub.status.idle": "2020-12-08T14:39:14.161778Z",
     "shell.execute_reply": "2020-12-08T14:39:14.160967Z"
    },
    "papermill": {
     "duration": 0.154874,
     "end_time": "2020-12-08T14:39:14.161917",
     "exception": false,
     "start_time": "2020-12-08T14:39:14.007043",
     "status": "completed"
    },
    "tags": []
   },
   "outputs": [
    {
     "name": "stderr",
     "output_type": "stream",
     "text": [
      "C:\\Users\\Nikita Sergeevich\\anaconda3\\lib\\site-packages\\ipykernel_launcher.py:1: SettingWithCopyWarning: \n",
      "A value is trying to be set on a copy of a slice from a DataFrame.\n",
      "Try using .loc[row_indexer,col_indexer] = value instead\n",
      "\n",
      "See the caveats in the documentation: https://pandas.pydata.org/pandas-docs/stable/user_guide/indexing.html#returning-a-view-versus-a-copy\n",
      "  \"\"\"Entry point for launching an IPython kernel.\n"
     ]
    }
   ],
   "source": [
    "tr_df['days'] = df[df.Train==1]['days']"
   ]
  },
  {
   "cell_type": "code",
   "execution_count": 39,
   "metadata": {
    "execution": {
     "iopub.execute_input": "2020-12-08T14:39:14.438972Z",
     "iopub.status.busy": "2020-12-08T14:39:14.438225Z",
     "iopub.status.idle": "2020-12-08T14:39:14.752158Z",
     "shell.execute_reply": "2020-12-08T14:39:14.751568Z"
    },
    "papermill": {
     "duration": 0.456257,
     "end_time": "2020-12-08T14:39:14.752322",
     "exception": false,
     "start_time": "2020-12-08T14:39:14.296065",
     "status": "completed"
    },
    "tags": []
   },
   "outputs": [
    {
     "data": {
      "text/plain": [
       "<matplotlib.axes._subplots.AxesSubplot at 0x21755ea01c8>"
      ]
     },
     "execution_count": 39,
     "metadata": {},
     "output_type": "execute_result"
    },
    {
     "data": {
      "image/png": "[encoded data removed]",
      "text/plain": [
       "<Figure size 432x288 with 1 Axes>"
      ]
     },
     "metadata": {
      "needs_background": "light"
     },
     "output_type": "display_data"
    }
   ],
   "source": [
    "imp_num = pd.Series(f_classif(tr_df[num_cols], tr_df['default'])[0], index = num_cols)\n",
    "imp_num.sort_values(inplace = True)\n",
    "imp_num.plot(kind = 'barh', title='Значимость непрерывных переменных по ANOVA F test')"
   ]
  },
  {
   "cell_type": "markdown",
   "metadata": {
    "papermill": {
     "duration": 0.136619,
     "end_time": "2020-12-08T14:39:15.026594",
     "exception": false,
     "start_time": "2020-12-08T14:39:14.889975",
     "status": "completed"
    },
    "tags": []
   },
   "source": [
    "Посмотрим на значимость категориальных и бинарных переменных"
   ]
  },
  {
   "cell_type": "code",
   "execution_count": 40,
   "metadata": {
    "execution": {
     "iopub.execute_input": "2020-12-08T14:39:15.308316Z",
     "iopub.status.busy": "2020-12-08T14:39:15.307542Z",
     "iopub.status.idle": "2020-12-08T14:39:15.833905Z",
     "shell.execute_reply": "2020-12-08T14:39:15.833116Z"
    },
    "papermill": {
     "duration": 0.669928,
     "end_time": "2020-12-08T14:39:15.834031",
     "exception": false,
     "start_time": "2020-12-08T14:39:15.164103",
     "status": "completed"
    },
    "tags": []
   },
   "outputs": [
    {
     "data": {
      "text/plain": [
       "<matplotlib.axes._subplots.AxesSubplot at 0x21756a3dd88>"
      ]
     },
     "execution_count": 40,
     "metadata": {},
     "output_type": "execute_result"
    },
    {
     "data": {
      "image/png": "[encoded data removed]",
      "text/plain": [
       "<Figure size 432x288 with 1 Axes>"
      ]
     },
     "metadata": {
      "needs_background": "light"
     },
     "output_type": "display_data"
    }
   ],
   "source": [
    "cat_and_bin_cols = cat_cols+bin_cols\n",
    "tr_df = df[df['Train']==1]\n",
    "imp_cat = pd.Series(mutual_info_classif(tr_df[cat_and_bin_cols], tr_df['default'], discrete_features =True), index = cat_and_bin_cols)\n",
    "imp_cat.sort_values(inplace = True)\n",
    "imp_cat.plot(kind = 'barh', title = 'Значимость бин. и категор. переменных по Mutual information test')"
   ]
  },
  {
   "cell_type": "markdown",
   "metadata": {
    "papermill": {
     "duration": 0.13793,
     "end_time": "2020-12-08T14:39:16.109670",
     "exception": false,
     "start_time": "2020-12-08T14:39:15.971740",
     "status": "completed"
    },
    "tags": []
   },
   "source": [
    "Наиболее значимы связь заемщика с клиентами банка(sna) и давность наличия информации о заемщике(first_time). Наименее значим пол(sex)."
   ]
  },
  {
   "cell_type": "markdown",
   "metadata": {
    "papermill": {
     "duration": 0.135959,
     "end_time": "2020-12-08T14:39:16.382523",
     "exception": false,
     "start_time": "2020-12-08T14:39:16.246564",
     "status": "completed"
    },
    "tags": []
   },
   "source": [
    "# 3. Подготовка данных к машинному обучению"
   ]
  },
  {
   "cell_type": "code",
   "execution_count": 41,
   "metadata": {
    "execution": {
     "iopub.execute_input": "2020-12-08T14:39:16.672058Z",
     "iopub.status.busy": "2020-12-08T14:39:16.671297Z",
     "iopub.status.idle": "2020-12-08T14:39:16.707122Z",
     "shell.execute_reply": "2020-12-08T14:39:16.706380Z"
    },
    "papermill": {
     "duration": 0.188705,
     "end_time": "2020-12-08T14:39:16.707273",
     "exception": false,
     "start_time": "2020-12-08T14:39:16.518568",
     "status": "completed"
    },
    "tags": []
   },
   "outputs": [],
   "source": [
    "# реализуем метод OneHotLabels через get_dummies\n",
    "df=pd.get_dummies(df, prefix=cat_cols, columns=cat_cols)"
   ]
  },
  {
   "cell_type": "code",
   "execution_count": 42,
   "metadata": {
    "execution": {
     "iopub.execute_input": "2020-12-08T14:39:16.990149Z",
     "iopub.status.busy": "2020-12-08T14:39:16.989417Z",
     "iopub.status.idle": "2020-12-08T14:39:17.038231Z",
     "shell.execute_reply": "2020-12-08T14:39:17.037612Z"
    },
    "papermill": {
     "duration": 0.193658,
     "end_time": "2020-12-08T14:39:17.038395",
     "exception": false,
     "start_time": "2020-12-08T14:39:16.844737",
     "status": "completed"
    },
    "tags": []
   },
   "outputs": [],
   "source": [
    "# стандартизиуем числовые признаки\n",
    "data_num = pd.DataFrame(StandardScaler().fit_transform(df[num_cols]), columns = num_cols)"
   ]
  },
  {
   "cell_type": "code",
   "execution_count": 43,
   "metadata": {
    "execution": {
     "iopub.execute_input": "2020-12-08T14:39:17.322918Z",
     "iopub.status.busy": "2020-12-08T14:39:17.322029Z",
     "iopub.status.idle": "2020-12-08T14:39:17.343241Z",
     "shell.execute_reply": "2020-12-08T14:39:17.342632Z"
    },
    "papermill": {
     "duration": 0.165464,
     "end_time": "2020-12-08T14:39:17.343391",
     "exception": false,
     "start_time": "2020-12-08T14:39:17.177927",
     "status": "completed"
    },
    "tags": []
   },
   "outputs": [],
   "source": [
    "df[num_cols] = data_num"
   ]
  },
  {
   "cell_type": "code",
   "execution_count": 44,
   "metadata": {
    "execution": {
     "iopub.execute_input": "2020-12-08T14:39:17.630011Z",
     "iopub.status.busy": "2020-12-08T14:39:17.624652Z",
     "iopub.status.idle": "2020-12-08T14:39:17.656231Z",
     "shell.execute_reply": "2020-12-08T14:39:17.655648Z"
    },
    "papermill": {
     "duration": 0.175757,
     "end_time": "2020-12-08T14:39:17.656380",
     "exception": false,
     "start_time": "2020-12-08T14:39:17.480623",
     "status": "completed"
    },
    "tags": []
   },
   "outputs": [
    {
     "data": {
      "text/html": [
       "<div>\n",
       "<style scoped>\n",
       "    .dataframe tbody tr th:only-of-type {\n",
       "        vertical-align: middle;\n",
       "    }\n",
       "\n",
       "    .dataframe tbody tr th {\n",
       "        vertical-align: top;\n",
       "    }\n",
       "\n",
       "    .dataframe thead th {\n",
       "        text-align: right;\n",
       "    }\n",
       "</style>\n",
       "<table border=\"1\" class=\"dataframe\">\n",
       "  <thead>\n",
       "    <tr style=\"text-align: right;\">\n",
       "      <th></th>\n",
       "      <th>client_id</th>\n",
       "      <th>app_date</th>\n",
       "      <th>sex</th>\n",
       "      <th>age</th>\n",
       "      <th>car</th>\n",
       "      <th>car_type</th>\n",
       "      <th>decline_app_cnt</th>\n",
       "      <th>good_work</th>\n",
       "      <th>score_bki</th>\n",
       "      <th>bki_request_cnt</th>\n",
       "      <th>income</th>\n",
       "      <th>foreign_passport</th>\n",
       "      <th>default</th>\n",
       "      <th>Train</th>\n",
       "      <th>month</th>\n",
       "      <th>days</th>\n",
       "      <th>education_0</th>\n",
       "      <th>education_1</th>\n",
       "      <th>education_2</th>\n",
       "      <th>education_3</th>\n",
       "      <th>education_4</th>\n",
       "      <th>region_rating_20</th>\n",
       "      <th>region_rating_30</th>\n",
       "      <th>region_rating_40</th>\n",
       "      <th>region_rating_50</th>\n",
       "      <th>region_rating_60</th>\n",
       "      <th>region_rating_70</th>\n",
       "      <th>region_rating_80</th>\n",
       "      <th>home_address_1</th>\n",
       "      <th>home_address_2</th>\n",
       "      <th>home_address_3</th>\n",
       "      <th>work_address_1</th>\n",
       "      <th>work_address_2</th>\n",
       "      <th>work_address_3</th>\n",
       "      <th>sna_1</th>\n",
       "      <th>sna_2</th>\n",
       "      <th>sna_3</th>\n",
       "      <th>sna_4</th>\n",
       "      <th>first_time_1</th>\n",
       "      <th>first_time_2</th>\n",
       "      <th>first_time_3</th>\n",
       "      <th>first_time_4</th>\n",
       "    </tr>\n",
       "  </thead>\n",
       "  <tbody>\n",
       "    <tr>\n",
       "      <th>0</th>\n",
       "      <td>25905</td>\n",
       "      <td>2014-02-01</td>\n",
       "      <td>1</td>\n",
       "      <td>1.714029</td>\n",
       "      <td>1</td>\n",
       "      <td>1</td>\n",
       "      <td>-0.341893</td>\n",
       "      <td>0</td>\n",
       "      <td>-0.208688</td>\n",
       "      <td>-0.281790</td>\n",
       "      <td>-0.786080</td>\n",
       "      <td>0</td>\n",
       "      <td>0.0</td>\n",
       "      <td>1</td>\n",
       "      <td>2</td>\n",
       "      <td>-0.934391</td>\n",
       "      <td>0</td>\n",
       "      <td>0</td>\n",
       "      <td>0</td>\n",
       "      <td>1</td>\n",
       "      <td>0</td>\n",
       "      <td>0</td>\n",
       "      <td>0</td>\n",
       "      <td>0</td>\n",
       "      <td>1</td>\n",
       "      <td>0</td>\n",
       "      <td>0</td>\n",
       "      <td>0</td>\n",
       "      <td>1</td>\n",
       "      <td>0</td>\n",
       "      <td>0</td>\n",
       "      <td>0</td>\n",
       "      <td>1</td>\n",
       "      <td>0</td>\n",
       "      <td>0</td>\n",
       "      <td>0</td>\n",
       "      <td>0</td>\n",
       "      <td>1</td>\n",
       "      <td>1</td>\n",
       "      <td>0</td>\n",
       "      <td>0</td>\n",
       "      <td>0</td>\n",
       "    </tr>\n",
       "    <tr>\n",
       "      <th>1</th>\n",
       "      <td>63161</td>\n",
       "      <td>2014-03-12</td>\n",
       "      <td>0</td>\n",
       "      <td>1.542867</td>\n",
       "      <td>0</td>\n",
       "      <td>0</td>\n",
       "      <td>-0.341893</td>\n",
       "      <td>0</td>\n",
       "      <td>0.745419</td>\n",
       "      <td>0.770563</td>\n",
       "      <td>-0.708472</td>\n",
       "      <td>0</td>\n",
       "      <td>0.0</td>\n",
       "      <td>1</td>\n",
       "      <td>3</td>\n",
       "      <td>0.281474</td>\n",
       "      <td>0</td>\n",
       "      <td>0</td>\n",
       "      <td>0</td>\n",
       "      <td>1</td>\n",
       "      <td>0</td>\n",
       "      <td>0</td>\n",
       "      <td>0</td>\n",
       "      <td>0</td>\n",
       "      <td>1</td>\n",
       "      <td>0</td>\n",
       "      <td>0</td>\n",
       "      <td>0</td>\n",
       "      <td>0</td>\n",
       "      <td>1</td>\n",
       "      <td>0</td>\n",
       "      <td>0</td>\n",
       "      <td>0</td>\n",
       "      <td>1</td>\n",
       "      <td>0</td>\n",
       "      <td>0</td>\n",
       "      <td>0</td>\n",
       "      <td>1</td>\n",
       "      <td>1</td>\n",
       "      <td>0</td>\n",
       "      <td>0</td>\n",
       "      <td>0</td>\n",
       "    </tr>\n",
       "  </tbody>\n",
       "</table>\n",
       "</div>"
      ],
      "text/plain": [
       "   client_id   app_date  sex       age  car  car_type  decline_app_cnt  \\\n",
       "0      25905 2014-02-01    1  1.714029    1         1        -0.341893   \n",
       "1      63161 2014-03-12    0  1.542867    0         0        -0.341893   \n",
       "\n",
       "   good_work  score_bki  bki_request_cnt    income  foreign_passport  default  \\\n",
       "0          0  -0.208688        -0.281790 -0.786080                 0      0.0   \n",
       "1          0   0.745419         0.770563 -0.708472                 0      0.0   \n",
       "\n",
       "   Train  month      days  education_0  education_1  education_2  education_3  \\\n",
       "0      1      2 -0.934391            0            0            0            1   \n",
       "1      1      3  0.281474            0            0            0            1   \n",
       "\n",
       "   education_4  region_rating_20  region_rating_30  region_rating_40  \\\n",
       "0            0                 0                 0                 0   \n",
       "1            0                 0                 0                 0   \n",
       "\n",
       "   region_rating_50  region_rating_60  region_rating_70  region_rating_80  \\\n",
       "0                 1                 0                 0                 0   \n",
       "1                 1                 0                 0                 0   \n",
       "\n",
       "   home_address_1  home_address_2  home_address_3  work_address_1  \\\n",
       "0               1               0               0               0   \n",
       "1               0               1               0               0   \n",
       "\n",
       "   work_address_2  work_address_3  sna_1  sna_2  sna_3  sna_4  first_time_1  \\\n",
       "0               1               0      0      0      0      1             1   \n",
       "1               0               1      0      0      0      1             1   \n",
       "\n",
       "   first_time_2  first_time_3  first_time_4  \n",
       "0             0             0             0  \n",
       "1             0             0             0  "
      ]
     },
     "execution_count": 44,
     "metadata": {},
     "output_type": "execute_result"
    }
   ],
   "source": [
    "df.head(2)"
   ]
  },
  {
   "cell_type": "code",
   "execution_count": 45,
   "metadata": {
    "execution": {
     "iopub.execute_input": "2020-12-08T14:39:17.944326Z",
     "iopub.status.busy": "2020-12-08T14:39:17.943515Z",
     "iopub.status.idle": "2020-12-08T14:39:17.957697Z",
     "shell.execute_reply": "2020-12-08T14:39:17.957037Z"
    },
    "papermill": {
     "duration": 0.159788,
     "end_time": "2020-12-08T14:39:17.957859",
     "exception": false,
     "start_time": "2020-12-08T14:39:17.798071",
     "status": "completed"
    },
    "tags": []
   },
   "outputs": [],
   "source": [
    "#удалим нечисловой признак\n",
    "df.drop(['app_date'], axis=1, inplace=True)"
   ]
  },
  {
   "cell_type": "markdown",
   "metadata": {
    "papermill": {
     "duration": 0.180378,
     "end_time": "2020-12-08T14:39:18.280347",
     "exception": false,
     "start_time": "2020-12-08T14:39:18.099969",
     "status": "completed"
    },
    "tags": []
   },
   "source": [
    "# 4. Построение модели"
   ]
  },
  {
   "cell_type": "code",
   "execution_count": 46,
   "metadata": {
    "execution": {
     "iopub.execute_input": "2020-12-08T14:39:18.570003Z",
     "iopub.status.busy": "2020-12-08T14:39:18.569213Z",
     "iopub.status.idle": "2020-12-08T14:39:18.621363Z",
     "shell.execute_reply": "2020-12-08T14:39:18.620524Z"
    },
    "papermill": {
     "duration": 0.200242,
     "end_time": "2020-12-08T14:39:18.621518",
     "exception": false,
     "start_time": "2020-12-08T14:39:18.421276",
     "status": "completed"
    },
    "tags": []
   },
   "outputs": [],
   "source": [
    "train_data = df.query('Train == 1').drop(['Train', 'client_id'], axis=1)\n",
    "test_data = df.query('Train == 0').drop(['Train', 'client_id'], axis=1)\n",
    "\n",
    "y = train_data.default.values            # таргет\n",
    "X = train_data.drop(['default'], axis=1)"
   ]
  },
  {
   "cell_type": "code",
   "execution_count": 47,
   "metadata": {
    "execution": {
     "iopub.execute_input": "2020-12-08T14:39:18.912564Z",
     "iopub.status.busy": "2020-12-08T14:39:18.911701Z",
     "iopub.status.idle": "2020-12-08T14:39:18.935082Z",
     "shell.execute_reply": "2020-12-08T14:39:18.934440Z"
    },
    "papermill": {
     "duration": 0.171646,
     "end_time": "2020-12-08T14:39:18.935238",
     "exception": false,
     "start_time": "2020-12-08T14:39:18.763592",
     "status": "completed"
    },
    "tags": []
   },
   "outputs": [],
   "source": [
    "# Воспользуемся специальной функцие train_test_split для разбивки тестовых данных\n",
    "# выделим 20% данных на валидацию (параметр test_size)\n",
    "RANDOM_SEED = 42\n",
    "X_train, X_test, y_train, y_test = train_test_split(X, y, test_size=0.2, random_state=RANDOM_SEED)"
   ]
  },
  {
   "cell_type": "markdown",
   "metadata": {
    "papermill": {
     "duration": 0.13932,
     "end_time": "2020-12-08T14:39:19.215557",
     "exception": false,
     "start_time": "2020-12-08T14:39:19.076237",
     "status": "completed"
    },
    "tags": []
   },
   "source": [
    "Создадим класс с разныи метриками для оценки модели"
   ]
  },
  {
   "cell_type": "code",
   "execution_count": 48,
   "metadata": {
    "execution": {
     "iopub.execute_input": "2020-12-08T14:39:19.525374Z",
     "iopub.status.busy": "2020-12-08T14:39:19.524585Z",
     "iopub.status.idle": "2020-12-08T14:39:19.529097Z",
     "shell.execute_reply": "2020-12-08T14:39:19.528309Z"
    },
    "papermill": {
     "duration": 0.174735,
     "end_time": "2020-12-08T14:39:19.529240",
     "exception": false,
     "start_time": "2020-12-08T14:39:19.354505",
     "status": "completed"
    },
    "tags": []
   },
   "outputs": [],
   "source": [
    "class ModelInspect():  \n",
    "    def __init__(self, model, X_test, y_test):\n",
    "        self.X_test = X_test\n",
    "        self.y_test = y_test\n",
    "        self.y_pred = model.predict(X_test)\n",
    "        self.probs = model.predict_proba(X_test)[:,1]\n",
    "    \n",
    "    def roc_curve_plot(self):\n",
    "        fpr, tpr, threshold = roc_curve(self.y_test, self.probs)\n",
    "        roc_auc = roc_auc_score(self.y_test, self.probs)\n",
    "\n",
    "        plt.figure(figsize=(8,8))\n",
    "        plt.plot([0, 1], label='Random', linestyle='--')\n",
    "        plt.plot(fpr, tpr, label = 'Regression')\n",
    "        plt.title('Logistic Regression ROC AUC = %0.10f' % roc_auc)\n",
    "        plt.ylabel('True Positive Rate')\n",
    "        plt.xlabel('False Positive Rate')\n",
    "        plt.legend(loc = 'lower right')\n",
    "        plt.show()\n",
    "    \n",
    "    def confusion_matrix_plot(self):\n",
    "        tn, fp, fn, tp = confusion_matrix(self.y_test, self.y_pred).ravel()\n",
    "        cf_matrix = np.array([[tp,fp],[fn,tn]])\n",
    "        group_names = ['TP','FP','FN','TN']\n",
    "        group_counts = ['{0:0.0f}'.format(value) for value in cf_matrix.flatten()]\n",
    "        labels = [f\"{v1}\\n{v2}\" for v1, v2 in zip(group_names,group_counts)]\n",
    "        labels = np.asarray(labels).reshape(2,2)\n",
    "        plt.figure()\n",
    "        sns.heatmap(cf_matrix, annot=labels, annot_kws={\"size\": 20}, fmt='', cmap= 'Pastel1', cbar = False, \\\n",
    "                 xticklabels = ['Дефолт','Не дефолт'], yticklabels= ['Дефолт','Не дефолт'])\n",
    "        plt.title('Матрица ошибок для default')\n",
    "        plt.show()\n",
    "    \n",
    "    def get_metrics(self):\n",
    "        result = pd.Series({\n",
    "            'accuracy' : accuracy_score(self.y_test, self.y_pred),\n",
    "            'precision' : precision_score(self.y_test, self.y_pred),\n",
    "            'recall' : recall_score(self.y_test, self.y_pred),\n",
    "            'F1' : f1_score(self.y_test, self.y_pred),\n",
    "            'ROC_AUC': roc_auc_score(self.y_test, self.probs) \n",
    "        })\n",
    "        return result\n",
    "    \n",
    "    def recall_precision_plot(self):\n",
    "        precisions, recalls, _ = precision_recall_curve(self.y_test, self.y_pred)\n",
    "        ap = average_precision_score(self.y_test, self.y_pred)        \n",
    "        \n",
    "        plt.figure()\n",
    "        \n",
    "        plt.step(recalls, precisions, color='b', alpha=0.2, where='post')\n",
    "        plt.fill_between(recalls, precisions, step='post', alpha=0.2, color='lime')\n",
    "        plt.xlabel('Recall');\n",
    "        plt.ylabel('Precision');\n",
    "        plt.title('Recall-precision curve, площадь под кривой = %0.10f' % ap)\n",
    "        plt.grid(True)\n",
    "        \n",
    "        plt.show()"
   ]
  },
  {
   "cell_type": "code",
   "execution_count": 49,
   "metadata": {
    "execution": {
     "iopub.execute_input": "2020-12-08T14:39:19.819615Z",
     "iopub.status.busy": "2020-12-08T14:39:19.818771Z",
     "iopub.status.idle": "2020-12-08T14:39:20.775473Z",
     "shell.execute_reply": "2020-12-08T14:39:20.774681Z"
    },
    "papermill": {
     "duration": 1.105526,
     "end_time": "2020-12-08T14:39:20.775644",
     "exception": false,
     "start_time": "2020-12-08T14:39:19.670118",
     "status": "completed"
    },
    "tags": []
   },
   "outputs": [
    {
     "name": "stderr",
     "output_type": "stream",
     "text": [
      "C:\\Users\\Nikita Sergeevich\\anaconda3\\lib\\site-packages\\sklearn\\linear_model\\_logistic.py:940: ConvergenceWarning: lbfgs failed to converge (status=1):\n",
      "STOP: TOTAL NO. of ITERATIONS REACHED LIMIT.\n",
      "\n",
      "Increase the number of iterations (max_iter) or scale the data as shown in:\n",
      "    https://scikit-learn.org/stable/modules/preprocessing.html\n",
      "Please also refer to the documentation for alternative solver options:\n",
      "    https://scikit-learn.org/stable/modules/linear_model.html#logistic-regression\n",
      "  extra_warning_msg=_LOGISTIC_SOLVER_CONVERGENCE_MSG)\n"
     ]
    },
    {
     "data": {
      "text/plain": [
       "LogisticRegression(C=1.0, class_weight=None, dual=False, fit_intercept=True,\n",
       "                   intercept_scaling=1, l1_ratio=None, max_iter=100,\n",
       "                   multi_class='auto', n_jobs=None, penalty='l2',\n",
       "                   random_state=42, solver='lbfgs', tol=0.0001, verbose=0,\n",
       "                   warm_start=False)"
      ]
     },
     "execution_count": 49,
     "metadata": {},
     "output_type": "execute_result"
    }
   ],
   "source": [
    "# первая модель на автомате\n",
    "model = LogisticRegression(random_state=RANDOM_SEED)\n",
    "\n",
    "model.fit(X_train, y_train)"
   ]
  },
  {
   "cell_type": "code",
   "execution_count": 50,
   "metadata": {
    "execution": {
     "iopub.execute_input": "2020-12-08T14:39:21.069545Z",
     "iopub.status.busy": "2020-12-08T14:39:21.068722Z",
     "iopub.status.idle": "2020-12-08T14:39:21.080570Z",
     "shell.execute_reply": "2020-12-08T14:39:21.079618Z"
    },
    "papermill": {
     "duration": 0.160506,
     "end_time": "2020-12-08T14:39:21.080745",
     "exception": false,
     "start_time": "2020-12-08T14:39:20.920239",
     "status": "completed"
    },
    "tags": []
   },
   "outputs": [],
   "source": [
    "mi_1 = ModelInspect(model, X_test, y_test)"
   ]
  },
  {
   "cell_type": "code",
   "execution_count": 51,
   "metadata": {
    "execution": {
     "iopub.execute_input": "2020-12-08T14:39:21.374650Z",
     "iopub.status.busy": "2020-12-08T14:39:21.373701Z",
     "iopub.status.idle": "2020-12-08T14:39:21.702883Z",
     "shell.execute_reply": "2020-12-08T14:39:21.702280Z"
    },
    "papermill": {
     "duration": 0.476568,
     "end_time": "2020-12-08T14:39:21.703033",
     "exception": false,
     "start_time": "2020-12-08T14:39:21.226465",
     "status": "completed"
    },
    "tags": []
   },
   "outputs": [
    {
     "data": {
      "image/png": "[encoded data removed]",
      "text/plain": [
       "<Figure size 576x576 with 1 Axes>"
      ]
     },
     "metadata": {
      "needs_background": "light"
     },
     "output_type": "display_data"
    }
   ],
   "source": [
    "mi_1.roc_curve_plot()"
   ]
  },
  {
   "cell_type": "markdown",
   "metadata": {
    "papermill": {
     "duration": 0.145139,
     "end_time": "2020-12-08T14:39:21.996593",
     "exception": false,
     "start_time": "2020-12-08T14:39:21.851454",
     "status": "completed"
    },
    "tags": []
   },
   "source": [
    "Получилась достаточно большая величина ROC AUC. Посмотрим на остальные метрики."
   ]
  },
  {
   "cell_type": "code",
   "execution_count": 52,
   "metadata": {
    "execution": {
     "iopub.execute_input": "2020-12-08T14:39:22.289278Z",
     "iopub.status.busy": "2020-12-08T14:39:22.288549Z",
     "iopub.status.idle": "2020-12-08T14:39:22.323738Z",
     "shell.execute_reply": "2020-12-08T14:39:22.323045Z"
    },
    "papermill": {
     "duration": 0.182531,
     "end_time": "2020-12-08T14:39:22.323876",
     "exception": false,
     "start_time": "2020-12-08T14:39:22.141345",
     "status": "completed"
    },
    "tags": []
   },
   "outputs": [
    {
     "data": {
      "text/plain": [
       "accuracy     0.874390\n",
       "precision    0.363636\n",
       "recall       0.019704\n",
       "F1           0.037383\n",
       "ROC_AUC      0.743984\n",
       "dtype: float64"
      ]
     },
     "execution_count": 52,
     "metadata": {},
     "output_type": "execute_result"
    }
   ],
   "source": [
    "mi_1.get_metrics()"
   ]
  },
  {
   "cell_type": "code",
   "execution_count": 53,
   "metadata": {
    "execution": {
     "iopub.execute_input": "2020-12-08T14:39:22.614660Z",
     "iopub.status.busy": "2020-12-08T14:39:22.613922Z",
     "iopub.status.idle": "2020-12-08T14:39:22.754143Z",
     "shell.execute_reply": "2020-12-08T14:39:22.753419Z"
    },
    "papermill": {
     "duration": 0.28761,
     "end_time": "2020-12-08T14:39:22.754291",
     "exception": false,
     "start_time": "2020-12-08T14:39:22.466681",
     "status": "completed"
    },
    "tags": []
   },
   "outputs": [
    {
     "data": {
      "image/png": "[encoded data removed]",
      "text/plain": [
       "<Figure size 432x288 with 1 Axes>"
      ]
     },
     "metadata": {
      "needs_background": "light"
     },
     "output_type": "display_data"
    }
   ],
   "source": [
    "mi_1.confusion_matrix_plot()"
   ]
  },
  {
   "cell_type": "code",
   "execution_count": 54,
   "metadata": {
    "execution": {
     "iopub.execute_input": "2020-12-08T14:39:23.048978Z",
     "iopub.status.busy": "2020-12-08T14:39:23.048176Z",
     "iopub.status.idle": "2020-12-08T14:39:23.381226Z",
     "shell.execute_reply": "2020-12-08T14:39:23.380453Z"
    },
    "papermill": {
     "duration": 0.483232,
     "end_time": "2020-12-08T14:39:23.381378",
     "exception": false,
     "start_time": "2020-12-08T14:39:22.898146",
     "status": "completed"
    },
    "tags": []
   },
   "outputs": [
    {
     "data": {
      "image/png": "[encoded data removed]",
      "text/plain": [
       "<Figure size 432x288 with 1 Axes>"
      ]
     },
     "metadata": {
      "needs_background": "light"
     },
     "output_type": "display_data"
    }
   ],
   "source": [
    "mi_1.recall_precision_plot()"
   ]
  },
  {
   "cell_type": "markdown",
   "metadata": {
    "papermill": {
     "duration": 0.145861,
     "end_time": "2020-12-08T14:39:23.672976",
     "exception": false,
     "start_time": "2020-12-08T14:39:23.527115",
     "status": "completed"
    },
    "tags": []
   },
   "source": [
    "Заключение по модели без регуляризации. Видны очень высокие значения ROC AUC и accuracy. Хорошее значение accuracy могло появиться из-за несбалансированности целевой переменной. Также видны низкие recall и f1. Модель часто ошибочно считает дефолт не дефолтом(много FN(опять же, причина может быть в том, что модель предпочитвает предсказывать более частовстречающийся класс))."
   ]
  },
  {
   "cell_type": "markdown",
   "metadata": {
    "papermill": {
     "duration": 0.148996,
     "end_time": "2020-12-08T14:39:23.966731",
     "exception": false,
     "start_time": "2020-12-08T14:39:23.817735",
     "status": "completed"
    },
    "tags": []
   },
   "source": [
    "Для улучшения предсказательной силы модели попробуем сбалансировать модель и добавить регуляризацию"
   ]
  },
  {
   "cell_type": "markdown",
   "metadata": {
    "papermill": {
     "duration": 0.147671,
     "end_time": "2020-12-08T14:39:24.260759",
     "exception": false,
     "start_time": "2020-12-08T14:39:24.113088",
     "status": "completed"
    },
    "tags": []
   },
   "source": [
    "# 5. Улучшение модели"
   ]
  },
  {
   "cell_type": "code",
   "execution_count": 55,
   "metadata": {
    "execution": {
     "iopub.execute_input": "2020-12-08T14:39:24.555846Z",
     "iopub.status.busy": "2020-12-08T14:39:24.555113Z",
     "iopub.status.idle": "2020-12-08T14:39:24.710048Z",
     "shell.execute_reply": "2020-12-08T14:39:24.709229Z"
    },
    "papermill": {
     "duration": 0.305226,
     "end_time": "2020-12-08T14:39:24.710177",
     "exception": false,
     "start_time": "2020-12-08T14:39:24.404951",
     "status": "completed"
    },
    "tags": []
   },
   "outputs": [
    {
     "data": {
      "image/png": "[encoded data removed]",
      "text/plain": [
       "<Figure size 432x288 with 1 Axes>"
      ]
     },
     "metadata": {
      "needs_background": "light"
     },
     "output_type": "display_data"
    }
   ],
   "source": [
    "ax = sns.countplot(x=\"default\", data=df)"
   ]
  },
  {
   "cell_type": "markdown",
   "metadata": {
    "papermill": {
     "duration": 0.147192,
     "end_time": "2020-12-08T14:39:25.004082",
     "exception": false,
     "start_time": "2020-12-08T14:39:24.856890",
     "status": "completed"
    },
    "tags": []
   },
   "source": [
    "выборка несбалансирована. Введем веса классов, прямо-пропорциональные количеству объектов каждого класса (потом их нужно ввести в оптимизационный функционал)"
   ]
  },
  {
   "cell_type": "code",
   "execution_count": 56,
   "metadata": {
    "execution": {
     "iopub.execute_input": "2020-12-08T14:39:25.311367Z",
     "iopub.status.busy": "2020-12-08T14:39:25.310080Z",
     "iopub.status.idle": "2020-12-08T14:39:25.317375Z",
     "shell.execute_reply": "2020-12-08T14:39:25.318085Z"
    },
    "papermill": {
     "duration": 0.164801,
     "end_time": "2020-12-08T14:39:25.318294",
     "exception": false,
     "start_time": "2020-12-08T14:39:25.153493",
     "status": "completed"
    },
    "tags": []
   },
   "outputs": [
    {
     "name": "stdout",
     "output_type": "stream",
     "text": [
      "класс 0:  51494\n",
      "класс 1:  7545\n",
      "веса классов: w0 = 7, w1 = 1\n"
     ]
    }
   ],
   "source": [
    "print('класс 0: ', len(y_train[y_train == 0]))\n",
    "print('класс 1: ', len(y_train[y_train == 1]))\n",
    "Y = train_data.default.values\n",
    "print('веса классов: w0 = {0}, w1 = {1}'.format(round(len(Y[Y == 0])/len(Y[Y == 1])), 1))"
   ]
  },
  {
   "cell_type": "markdown",
   "metadata": {
    "papermill": {
     "duration": 0.148606,
     "end_time": "2020-12-08T14:39:25.614939",
     "exception": false,
     "start_time": "2020-12-08T14:39:25.466333",
     "status": "completed"
    },
    "tags": []
   },
   "source": [
    "sklearn.linear_model.LogisticRegression уже умеет учитывать веса классов при оптимизации. Для этого есть параметр class_weight"
   ]
  },
  {
   "cell_type": "code",
   "execution_count": 57,
   "metadata": {
    "execution": {
     "iopub.execute_input": "2020-12-08T14:39:25.921271Z",
     "iopub.status.busy": "2020-12-08T14:39:25.920454Z",
     "iopub.status.idle": "2020-12-08T14:39:26.964785Z",
     "shell.execute_reply": "2020-12-08T14:39:26.964102Z"
    },
    "papermill": {
     "duration": 1.201876,
     "end_time": "2020-12-08T14:39:26.964927",
     "exception": false,
     "start_time": "2020-12-08T14:39:25.763051",
     "status": "completed"
    },
    "tags": []
   },
   "outputs": [],
   "source": [
    "model = LogisticRegression(class_weight='balanced', random_state = RANDOM_SEED)\n",
    "model.fit(X_train, y_train)\n",
    "mi_balanced = ModelInspect(model, X_test, y_test)"
   ]
  },
  {
   "cell_type": "code",
   "execution_count": 58,
   "metadata": {
    "execution": {
     "iopub.execute_input": "2020-12-08T14:39:27.328643Z",
     "iopub.status.busy": "2020-12-08T14:39:27.327440Z",
     "iopub.status.idle": "2020-12-08T14:39:27.912923Z",
     "shell.execute_reply": "2020-12-08T14:39:27.912158Z"
    },
    "papermill": {
     "duration": 0.758109,
     "end_time": "2020-12-08T14:39:27.913049",
     "exception": false,
     "start_time": "2020-12-08T14:39:27.154940",
     "status": "completed"
    },
    "tags": []
   },
   "outputs": [
    {
     "data": {
      "image/png": "[encoded data removed]",
      "text/plain": [
       "<Figure size 576x576 with 1 Axes>"
      ]
     },
     "metadata": {
      "needs_background": "light"
     },
     "output_type": "display_data"
    }
   ],
   "source": [
    "mi_balanced.roc_curve_plot()"
   ]
  },
  {
   "cell_type": "code",
   "execution_count": 59,
   "metadata": {
    "execution": {
     "iopub.execute_input": "2020-12-08T14:39:28.220972Z",
     "iopub.status.busy": "2020-12-08T14:39:28.220194Z",
     "iopub.status.idle": "2020-12-08T14:39:28.259457Z",
     "shell.execute_reply": "2020-12-08T14:39:28.260007Z"
    },
    "papermill": {
     "duration": 0.197807,
     "end_time": "2020-12-08T14:39:28.260173",
     "exception": false,
     "start_time": "2020-12-08T14:39:28.062366",
     "status": "completed"
    },
    "tags": []
   },
   "outputs": [
    {
     "data": {
      "text/plain": [
       "accuracy     0.670325\n",
       "precision    0.226068\n",
       "recall       0.686371\n",
       "F1           0.340114\n",
       "ROC_AUC      0.743683\n",
       "dtype: float64"
      ]
     },
     "execution_count": 59,
     "metadata": {},
     "output_type": "execute_result"
    }
   ],
   "source": [
    "mi_balanced.get_metrics()"
   ]
  },
  {
   "cell_type": "code",
   "execution_count": 60,
   "metadata": {
    "execution": {
     "iopub.execute_input": "2020-12-08T14:39:28.565808Z",
     "iopub.status.busy": "2020-12-08T14:39:28.565005Z",
     "iopub.status.idle": "2020-12-08T14:39:28.711641Z",
     "shell.execute_reply": "2020-12-08T14:39:28.710867Z"
    },
    "papermill": {
     "duration": 0.301816,
     "end_time": "2020-12-08T14:39:28.711771",
     "exception": false,
     "start_time": "2020-12-08T14:39:28.409955",
     "status": "completed"
    },
    "tags": []
   },
   "outputs": [
    {
     "data": {
      "image/png": "[encoded data removed]",
      "text/plain": [
       "<Figure size 432x288 with 1 Axes>"
      ]
     },
     "metadata": {
      "needs_background": "light"
     },
     "output_type": "display_data"
    }
   ],
   "source": [
    "mi_balanced.confusion_matrix_plot()"
   ]
  },
  {
   "cell_type": "code",
   "execution_count": 61,
   "metadata": {
    "execution": {
     "iopub.execute_input": "2020-12-08T14:39:29.020236Z",
     "iopub.status.busy": "2020-12-08T14:39:29.019458Z",
     "iopub.status.idle": "2020-12-08T14:39:29.374216Z",
     "shell.execute_reply": "2020-12-08T14:39:29.373456Z"
    },
    "papermill": {
     "duration": 0.512712,
     "end_time": "2020-12-08T14:39:29.374372",
     "exception": false,
     "start_time": "2020-12-08T14:39:28.861660",
     "status": "completed"
    },
    "tags": []
   },
   "outputs": [
    {
     "data": {
      "image/png": "[encoded data removed]",
      "text/plain": [
       "<Figure size 432x288 with 1 Axes>"
      ]
     },
     "metadata": {
      "needs_background": "light"
     },
     "output_type": "display_data"
    }
   ],
   "source": [
    "mi_balanced.recall_precision_plot()"
   ]
  },
  {
   "cell_type": "markdown",
   "metadata": {
    "papermill": {
     "duration": 0.159285,
     "end_time": "2020-12-08T14:39:29.687917",
     "exception": false,
     "start_time": "2020-12-08T14:39:29.528632",
     "status": "completed"
    },
    "tags": []
   },
   "source": [
    "Теперь recall и f1 сильно выросли, однако accuracy упало. Действительно, модель как бы подгонялась под наиболее частый класс и была склонна к тому, чтобы предсказывать его. С добавлением весов эта проблема ушла. Однако теперь модель чаще стала ошибочно предсказывать дефолт."
   ]
  },
  {
   "cell_type": "markdown",
   "metadata": {
    "papermill": {
     "duration": 0.154749,
     "end_time": "2020-12-08T14:39:29.995052",
     "exception": false,
     "start_time": "2020-12-08T14:39:29.840303",
     "status": "completed"
    },
    "tags": []
   },
   "source": [
    "### Регуляризация"
   ]
  },
  {
   "cell_type": "markdown",
   "metadata": {
    "papermill": {
     "duration": 0.151158,
     "end_time": "2020-12-08T14:39:30.299820",
     "exception": false,
     "start_time": "2020-12-08T14:39:30.148662",
     "status": "completed"
    },
    "tags": []
   },
   "source": [
    "Проверим нулевые коэфиициенты "
   ]
  },
  {
   "cell_type": "code",
   "execution_count": 62,
   "metadata": {
    "execution": {
     "iopub.execute_input": "2020-12-08T14:39:30.614461Z",
     "iopub.status.busy": "2020-12-08T14:39:30.612786Z",
     "iopub.status.idle": "2020-12-08T14:39:41.792745Z",
     "shell.execute_reply": "2020-12-08T14:39:41.793369Z"
    },
    "papermill": {
     "duration": 11.341975,
     "end_time": "2020-12-08T14:39:41.793566",
     "exception": false,
     "start_time": "2020-12-08T14:39:30.451591",
     "status": "completed"
    },
    "tags": []
   },
   "outputs": [
    {
     "data": {
      "text/plain": [
       "LogisticRegression(C=1, class_weight='balanced', dual=False, fit_intercept=True,\n",
       "                   intercept_scaling=1, l1_ratio=None, max_iter=100,\n",
       "                   multi_class='auto', n_jobs=None, penalty='l1',\n",
       "                   random_state=42, solver='liblinear', tol=0.0001, verbose=0,\n",
       "                   warm_start=False)"
      ]
     },
     "execution_count": 62,
     "metadata": {},
     "output_type": "execute_result"
    }
   ],
   "source": [
    "model = LogisticRegression(random_state = RANDOM_SEED, \n",
    "                           C = 1, \n",
    "                           class_weight = 'balanced', \n",
    "                           penalty = 'l1', \n",
    "                           solver = 'liblinear',\n",
    "                           )\n",
    "model.fit(X_train, y_train)"
   ]
  },
  {
   "cell_type": "code",
   "execution_count": 63,
   "metadata": {
    "execution": {
     "iopub.execute_input": "2020-12-08T14:39:42.112819Z",
     "iopub.status.busy": "2020-12-08T14:39:42.112033Z",
     "iopub.status.idle": "2020-12-08T14:39:42.115624Z",
     "shell.execute_reply": "2020-12-08T14:39:42.114945Z"
    },
    "papermill": {
     "duration": 0.16661,
     "end_time": "2020-12-08T14:39:42.115755",
     "exception": false,
     "start_time": "2020-12-08T14:39:41.949145",
     "status": "completed"
    },
    "tags": []
   },
   "outputs": [],
   "source": [
    "df_coef = pd.DataFrame(np.hstack((np.array(X_train.columns).reshape(38,1), model.coef_.reshape(38,1))), columns = ['col', 'coef'])"
   ]
  },
  {
   "cell_type": "code",
   "execution_count": 64,
   "metadata": {
    "execution": {
     "iopub.execute_input": "2020-12-08T14:39:42.442147Z",
     "iopub.status.busy": "2020-12-08T14:39:42.441406Z",
     "iopub.status.idle": "2020-12-08T14:39:42.446608Z",
     "shell.execute_reply": "2020-12-08T14:39:42.445873Z"
    },
    "papermill": {
     "duration": 0.177001,
     "end_time": "2020-12-08T14:39:42.446742",
     "exception": false,
     "start_time": "2020-12-08T14:39:42.269741",
     "status": "completed"
    },
    "tags": []
   },
   "outputs": [
    {
     "data": {
      "text/html": [
       "<div>\n",
       "<style scoped>\n",
       "    .dataframe tbody tr th:only-of-type {\n",
       "        vertical-align: middle;\n",
       "    }\n",
       "\n",
       "    .dataframe tbody tr th {\n",
       "        vertical-align: top;\n",
       "    }\n",
       "\n",
       "    .dataframe thead th {\n",
       "        text-align: right;\n",
       "    }\n",
       "</style>\n",
       "<table border=\"1\" class=\"dataframe\">\n",
       "  <thead>\n",
       "    <tr style=\"text-align: right;\">\n",
       "      <th></th>\n",
       "      <th>col</th>\n",
       "      <th>coef</th>\n",
       "      <th>abs_coef</th>\n",
       "    </tr>\n",
       "  </thead>\n",
       "  <tbody>\n",
       "    <tr>\n",
       "      <th>23</th>\n",
       "      <td>region_rating_80</td>\n",
       "      <td>-0.862521</td>\n",
       "      <td>0.862521</td>\n",
       "    </tr>\n",
       "    <tr>\n",
       "      <th>17</th>\n",
       "      <td>region_rating_20</td>\n",
       "      <td>0.593755</td>\n",
       "      <td>0.593755</td>\n",
       "    </tr>\n",
       "    <tr>\n",
       "      <th>12</th>\n",
       "      <td>education_0</td>\n",
       "      <td>-0.536327</td>\n",
       "      <td>0.536327</td>\n",
       "    </tr>\n",
       "    <tr>\n",
       "      <th>22</th>\n",
       "      <td>region_rating_70</td>\n",
       "      <td>-0.533117</td>\n",
       "      <td>0.533117</td>\n",
       "    </tr>\n",
       "    <tr>\n",
       "      <th>6</th>\n",
       "      <td>score_bki</td>\n",
       "      <td>0.491363</td>\n",
       "      <td>0.491363</td>\n",
       "    </tr>\n",
       "    <tr>\n",
       "      <th>18</th>\n",
       "      <td>region_rating_30</td>\n",
       "      <td>0.47894</td>\n",
       "      <td>0.47894</td>\n",
       "    </tr>\n",
       "    <tr>\n",
       "      <th>15</th>\n",
       "      <td>education_3</td>\n",
       "      <td>0.383713</td>\n",
       "      <td>0.383713</td>\n",
       "    </tr>\n",
       "    <tr>\n",
       "      <th>27</th>\n",
       "      <td>work_address_1</td>\n",
       "      <td>-0.312733</td>\n",
       "      <td>0.312733</td>\n",
       "    </tr>\n",
       "    <tr>\n",
       "      <th>30</th>\n",
       "      <td>sna_1</td>\n",
       "      <td>-0.291241</td>\n",
       "      <td>0.291241</td>\n",
       "    </tr>\n",
       "    <tr>\n",
       "      <th>14</th>\n",
       "      <td>education_2</td>\n",
       "      <td>-0.289657</td>\n",
       "      <td>0.289657</td>\n",
       "    </tr>\n",
       "    <tr>\n",
       "      <th>37</th>\n",
       "      <td>first_time_4</td>\n",
       "      <td>-0.288359</td>\n",
       "      <td>0.288359</td>\n",
       "    </tr>\n",
       "    <tr>\n",
       "      <th>0</th>\n",
       "      <td>sex</td>\n",
       "      <td>0.285609</td>\n",
       "      <td>0.285609</td>\n",
       "    </tr>\n",
       "    <tr>\n",
       "      <th>3</th>\n",
       "      <td>car_type</td>\n",
       "      <td>-0.285285</td>\n",
       "      <td>0.285285</td>\n",
       "    </tr>\n",
       "    <tr>\n",
       "      <th>19</th>\n",
       "      <td>region_rating_40</td>\n",
       "      <td>0.272567</td>\n",
       "      <td>0.272567</td>\n",
       "    </tr>\n",
       "    <tr>\n",
       "      <th>24</th>\n",
       "      <td>home_address_1</td>\n",
       "      <td>-0.269125</td>\n",
       "      <td>0.269125</td>\n",
       "    </tr>\n",
       "    <tr>\n",
       "      <th>25</th>\n",
       "      <td>home_address_2</td>\n",
       "      <td>0.263323</td>\n",
       "      <td>0.263323</td>\n",
       "    </tr>\n",
       "    <tr>\n",
       "      <th>16</th>\n",
       "      <td>education_4</td>\n",
       "      <td>0.234281</td>\n",
       "      <td>0.234281</td>\n",
       "    </tr>\n",
       "    <tr>\n",
       "      <th>9</th>\n",
       "      <td>foreign_passport</td>\n",
       "      <td>-0.229689</td>\n",
       "      <td>0.229689</td>\n",
       "    </tr>\n",
       "    <tr>\n",
       "      <th>5</th>\n",
       "      <td>good_work</td>\n",
       "      <td>-0.196183</td>\n",
       "      <td>0.196183</td>\n",
       "    </tr>\n",
       "    <tr>\n",
       "      <th>26</th>\n",
       "      <td>home_address_3</td>\n",
       "      <td>-0.191069</td>\n",
       "      <td>0.191069</td>\n",
       "    </tr>\n",
       "    <tr>\n",
       "      <th>7</th>\n",
       "      <td>bki_request_cnt</td>\n",
       "      <td>0.188442</td>\n",
       "      <td>0.188442</td>\n",
       "    </tr>\n",
       "    <tr>\n",
       "      <th>33</th>\n",
       "      <td>sna_4</td>\n",
       "      <td>0.179792</td>\n",
       "      <td>0.179792</td>\n",
       "    </tr>\n",
       "    <tr>\n",
       "      <th>4</th>\n",
       "      <td>decline_app_cnt</td>\n",
       "      <td>0.137051</td>\n",
       "      <td>0.137051</td>\n",
       "    </tr>\n",
       "    <tr>\n",
       "      <th>11</th>\n",
       "      <td>days</td>\n",
       "      <td>-0.11045</td>\n",
       "      <td>0.11045</td>\n",
       "    </tr>\n",
       "    <tr>\n",
       "      <th>36</th>\n",
       "      <td>first_time_3</td>\n",
       "      <td>-0.108756</td>\n",
       "      <td>0.108756</td>\n",
       "    </tr>\n",
       "    <tr>\n",
       "      <th>21</th>\n",
       "      <td>region_rating_60</td>\n",
       "      <td>-0.108467</td>\n",
       "      <td>0.108467</td>\n",
       "    </tr>\n",
       "    <tr>\n",
       "      <th>29</th>\n",
       "      <td>work_address_3</td>\n",
       "      <td>0.0964223</td>\n",
       "      <td>0.0964223</td>\n",
       "    </tr>\n",
       "    <tr>\n",
       "      <th>35</th>\n",
       "      <td>first_time_2</td>\n",
       "      <td>0.0785037</td>\n",
       "      <td>0.0785037</td>\n",
       "    </tr>\n",
       "    <tr>\n",
       "      <th>32</th>\n",
       "      <td>sna_3</td>\n",
       "      <td>-0.0663314</td>\n",
       "      <td>0.0663314</td>\n",
       "    </tr>\n",
       "    <tr>\n",
       "      <th>1</th>\n",
       "      <td>age</td>\n",
       "      <td>-0.0342538</td>\n",
       "      <td>0.0342538</td>\n",
       "    </tr>\n",
       "    <tr>\n",
       "      <th>13</th>\n",
       "      <td>education_1</td>\n",
       "      <td>-0.0312375</td>\n",
       "      <td>0.0312375</td>\n",
       "    </tr>\n",
       "    <tr>\n",
       "      <th>10</th>\n",
       "      <td>month</td>\n",
       "      <td>-0.0271609</td>\n",
       "      <td>0.0271609</td>\n",
       "    </tr>\n",
       "    <tr>\n",
       "      <th>28</th>\n",
       "      <td>work_address_2</td>\n",
       "      <td>-0.009125</td>\n",
       "      <td>0.009125</td>\n",
       "    </tr>\n",
       "    <tr>\n",
       "      <th>2</th>\n",
       "      <td>car</td>\n",
       "      <td>-0.0087765</td>\n",
       "      <td>0.0087765</td>\n",
       "    </tr>\n",
       "    <tr>\n",
       "      <th>8</th>\n",
       "      <td>income</td>\n",
       "      <td>-0.00172108</td>\n",
       "      <td>0.00172108</td>\n",
       "    </tr>\n",
       "    <tr>\n",
       "      <th>20</th>\n",
       "      <td>region_rating_50</td>\n",
       "      <td>0</td>\n",
       "      <td>0</td>\n",
       "    </tr>\n",
       "    <tr>\n",
       "      <th>31</th>\n",
       "      <td>sna_2</td>\n",
       "      <td>0</td>\n",
       "      <td>0</td>\n",
       "    </tr>\n",
       "    <tr>\n",
       "      <th>34</th>\n",
       "      <td>first_time_1</td>\n",
       "      <td>0</td>\n",
       "      <td>0</td>\n",
       "    </tr>\n",
       "  </tbody>\n",
       "</table>\n",
       "</div>"
      ],
      "text/plain": [
       "                 col        coef    abs_coef\n",
       "23  region_rating_80   -0.862521    0.862521\n",
       "17  region_rating_20    0.593755    0.593755\n",
       "12       education_0   -0.536327    0.536327\n",
       "22  region_rating_70   -0.533117    0.533117\n",
       "6          score_bki    0.491363    0.491363\n",
       "18  region_rating_30     0.47894     0.47894\n",
       "15       education_3    0.383713    0.383713\n",
       "27    work_address_1   -0.312733    0.312733\n",
       "30             sna_1   -0.291241    0.291241\n",
       "14       education_2   -0.289657    0.289657\n",
       "37      first_time_4   -0.288359    0.288359\n",
       "0                sex    0.285609    0.285609\n",
       "3           car_type   -0.285285    0.285285\n",
       "19  region_rating_40    0.272567    0.272567\n",
       "24    home_address_1   -0.269125    0.269125\n",
       "25    home_address_2    0.263323    0.263323\n",
       "16       education_4    0.234281    0.234281\n",
       "9   foreign_passport   -0.229689    0.229689\n",
       "5          good_work   -0.196183    0.196183\n",
       "26    home_address_3   -0.191069    0.191069\n",
       "7    bki_request_cnt    0.188442    0.188442\n",
       "33             sna_4    0.179792    0.179792\n",
       "4    decline_app_cnt    0.137051    0.137051\n",
       "11              days    -0.11045     0.11045\n",
       "36      first_time_3   -0.108756    0.108756\n",
       "21  region_rating_60   -0.108467    0.108467\n",
       "29    work_address_3   0.0964223   0.0964223\n",
       "35      first_time_2   0.0785037   0.0785037\n",
       "32             sna_3  -0.0663314   0.0663314\n",
       "1                age  -0.0342538   0.0342538\n",
       "13       education_1  -0.0312375   0.0312375\n",
       "10             month  -0.0271609   0.0271609\n",
       "28    work_address_2   -0.009125    0.009125\n",
       "2                car  -0.0087765   0.0087765\n",
       "8             income -0.00172108  0.00172108\n",
       "20  region_rating_50           0           0\n",
       "31             sna_2           0           0\n",
       "34      first_time_1           0           0"
      ]
     },
     "execution_count": 64,
     "metadata": {},
     "output_type": "execute_result"
    }
   ],
   "source": [
    "df_coef['abs_coef'] = np.abs(df_coef.coef)\n",
    "df_coef.sort_values(['abs_coef'], ascending = False)"
   ]
  },
  {
   "cell_type": "code",
   "execution_count": 65,
   "metadata": {
    "execution": {
     "iopub.execute_input": "2020-12-08T14:39:42.761931Z",
     "iopub.status.busy": "2020-12-08T14:39:42.761011Z",
     "iopub.status.idle": "2020-12-08T14:39:42.766545Z",
     "shell.execute_reply": "2020-12-08T14:39:42.765942Z"
    },
    "papermill": {
     "duration": 0.166537,
     "end_time": "2020-12-08T14:39:42.766673",
     "exception": false,
     "start_time": "2020-12-08T14:39:42.600136",
     "status": "completed"
    },
    "tags": []
   },
   "outputs": [
    {
     "data": {
      "text/plain": [
       "['region_rating_50', 'sna_2', 'first_time_1']"
      ]
     },
     "execution_count": 65,
     "metadata": {},
     "output_type": "execute_result"
    }
   ],
   "source": [
    "list(np.array(df_coef[df_coef.coef == 0].col))"
   ]
  },
  {
   "cell_type": "markdown",
   "metadata": {
    "papermill": {
     "duration": 0.156073,
     "end_time": "2020-12-08T14:39:43.076315",
     "exception": false,
     "start_time": "2020-12-08T14:39:42.920242",
     "status": "completed"
    },
    "tags": []
   },
   "source": [
    "Нулевые коэффициенты означают, что признаки не очень важны для модели, их вполне можно отбросить"
   ]
  },
  {
   "cell_type": "code",
   "execution_count": 66,
   "metadata": {
    "execution": {
     "iopub.execute_input": "2020-12-08T14:39:43.397119Z",
     "iopub.status.busy": "2020-12-08T14:39:43.396029Z",
     "iopub.status.idle": "2020-12-08T14:39:43.401670Z",
     "shell.execute_reply": "2020-12-08T14:39:43.400903Z"
    },
    "papermill": {
     "duration": 0.166805,
     "end_time": "2020-12-08T14:39:43.401797",
     "exception": false,
     "start_time": "2020-12-08T14:39:43.234992",
     "status": "completed"
    },
    "tags": []
   },
   "outputs": [
    {
     "data": {
      "text/plain": [
       "['region_rating_50', 'sna_2', 'first_time_1']"
      ]
     },
     "execution_count": 66,
     "metadata": {},
     "output_type": "execute_result"
    }
   ],
   "source": [
    "cols_4del = list(np.array(df_coef[df_coef.coef == 0].col))\n",
    "cols_4del"
   ]
  },
  {
   "cell_type": "code",
   "execution_count": 67,
   "metadata": {
    "execution": {
     "iopub.execute_input": "2020-12-08T14:39:43.726123Z",
     "iopub.status.busy": "2020-12-08T14:39:43.725337Z",
     "iopub.status.idle": "2020-12-08T14:39:43.732750Z",
     "shell.execute_reply": "2020-12-08T14:39:43.731967Z"
    },
    "papermill": {
     "duration": 0.175988,
     "end_time": "2020-12-08T14:39:43.732882",
     "exception": false,
     "start_time": "2020-12-08T14:39:43.556894",
     "status": "completed"
    },
    "tags": []
   },
   "outputs": [
    {
     "name": "stderr",
     "output_type": "stream",
     "text": [
      "C:\\Users\\Nikita Sergeevich\\anaconda3\\lib\\site-packages\\pandas\\core\\frame.py:3997: SettingWithCopyWarning: \n",
      "A value is trying to be set on a copy of a slice from a DataFrame\n",
      "\n",
      "See the caveats in the documentation: https://pandas.pydata.org/pandas-docs/stable/user_guide/indexing.html#returning-a-view-versus-a-copy\n",
      "  errors=errors,\n"
     ]
    }
   ],
   "source": [
    "X_train.drop(cols_4del, axis = 1, inplace = True)\n",
    "X_test.drop(cols_4del, axis = 1, inplace = True)"
   ]
  },
  {
   "cell_type": "markdown",
   "metadata": {
    "papermill": {
     "duration": 0.154988,
     "end_time": "2020-12-08T14:39:44.043117",
     "exception": false,
     "start_time": "2020-12-08T14:39:43.888129",
     "status": "completed"
    },
    "tags": []
   },
   "source": [
    "Смотрим теперь на модель"
   ]
  },
  {
   "cell_type": "code",
   "execution_count": 68,
   "metadata": {
    "execution": {
     "iopub.execute_input": "2020-12-08T14:39:44.362972Z",
     "iopub.status.busy": "2020-12-08T14:39:44.362155Z",
     "iopub.status.idle": "2020-12-08T14:39:45.382460Z",
     "shell.execute_reply": "2020-12-08T14:39:45.381681Z"
    },
    "papermill": {
     "duration": 1.183716,
     "end_time": "2020-12-08T14:39:45.382617",
     "exception": false,
     "start_time": "2020-12-08T14:39:44.198901",
     "status": "completed"
    },
    "tags": []
   },
   "outputs": [],
   "source": [
    "model = LogisticRegression(max_iter = 2000, class_weight='balanced', random_state = RANDOM_SEED)\n",
    "model.fit(X_train, y_train)\n",
    "mi_drop0coef = ModelInspect(model, X_test, y_test)"
   ]
  },
  {
   "cell_type": "code",
   "execution_count": 69,
   "metadata": {
    "execution": {
     "iopub.execute_input": "2020-12-08T14:39:45.743749Z",
     "iopub.status.busy": "2020-12-08T14:39:45.742692Z",
     "iopub.status.idle": "2020-12-08T14:39:45.820392Z",
     "shell.execute_reply": "2020-12-08T14:39:45.820943Z"
    },
    "papermill": {
     "duration": 0.280881,
     "end_time": "2020-12-08T14:39:45.821115",
     "exception": false,
     "start_time": "2020-12-08T14:39:45.540234",
     "status": "completed"
    },
    "tags": []
   },
   "outputs": [
    {
     "data": {
      "text/html": [
       "<div>\n",
       "<style scoped>\n",
       "    .dataframe tbody tr th:only-of-type {\n",
       "        vertical-align: middle;\n",
       "    }\n",
       "\n",
       "    .dataframe tbody tr th {\n",
       "        vertical-align: top;\n",
       "    }\n",
       "\n",
       "    .dataframe thead th {\n",
       "        text-align: right;\n",
       "    }\n",
       "</style>\n",
       "<table border=\"1\" class=\"dataframe\">\n",
       "  <thead>\n",
       "    <tr style=\"text-align: right;\">\n",
       "      <th></th>\n",
       "      <th>0</th>\n",
       "      <th>1</th>\n",
       "    </tr>\n",
       "  </thead>\n",
       "  <tbody>\n",
       "    <tr>\n",
       "      <th>accuracy</th>\n",
       "      <td>0.670325</td>\n",
       "      <td>0.670325</td>\n",
       "    </tr>\n",
       "    <tr>\n",
       "      <th>precision</th>\n",
       "      <td>0.226068</td>\n",
       "      <td>0.226068</td>\n",
       "    </tr>\n",
       "    <tr>\n",
       "      <th>recall</th>\n",
       "      <td>0.686371</td>\n",
       "      <td>0.686371</td>\n",
       "    </tr>\n",
       "    <tr>\n",
       "      <th>F1</th>\n",
       "      <td>0.340114</td>\n",
       "      <td>0.340114</td>\n",
       "    </tr>\n",
       "    <tr>\n",
       "      <th>ROC_AUC</th>\n",
       "      <td>0.743683</td>\n",
       "      <td>0.743685</td>\n",
       "    </tr>\n",
       "  </tbody>\n",
       "</table>\n",
       "</div>"
      ],
      "text/plain": [
       "                  0         1\n",
       "accuracy   0.670325  0.670325\n",
       "precision  0.226068  0.226068\n",
       "recall     0.686371  0.686371\n",
       "F1         0.340114  0.340114\n",
       "ROC_AUC    0.743683  0.743685"
      ]
     },
     "execution_count": 69,
     "metadata": {},
     "output_type": "execute_result"
    }
   ],
   "source": [
    "pd.concat([mi_balanced.get_metrics(),mi_drop0coef.get_metrics()], axis = 1)"
   ]
  },
  {
   "cell_type": "code",
   "execution_count": 70,
   "metadata": {
    "execution": {
     "iopub.execute_input": "2020-12-08T14:39:46.152049Z",
     "iopub.status.busy": "2020-12-08T14:39:46.151042Z",
     "iopub.status.idle": "2020-12-08T14:39:46.286657Z",
     "shell.execute_reply": "2020-12-08T14:39:46.287568Z"
    },
    "papermill": {
     "duration": 0.299323,
     "end_time": "2020-12-08T14:39:46.287853",
     "exception": false,
     "start_time": "2020-12-08T14:39:45.988530",
     "status": "completed"
    },
    "tags": []
   },
   "outputs": [
    {
     "data": {
      "image/png": "[encoded data removed]",
      "text/plain": [
       "<Figure size 432x288 with 1 Axes>"
      ]
     },
     "metadata": {
      "needs_background": "light"
     },
     "output_type": "display_data"
    }
   ],
   "source": [
    "mi_drop0coef.confusion_matrix_plot()"
   ]
  },
  {
   "cell_type": "markdown",
   "metadata": {
    "papermill": {
     "duration": 0.159516,
     "end_time": "2020-12-08T14:39:46.615192",
     "exception": false,
     "start_time": "2020-12-08T14:39:46.455676",
     "status": "completed"
    },
    "tags": []
   },
   "source": [
    "Предсказания модели после удаления нулевых признаков не изменились"
   ]
  },
  {
   "cell_type": "markdown",
   "metadata": {
    "papermill": {
     "duration": 0.157609,
     "end_time": "2020-12-08T14:39:46.932628",
     "exception": false,
     "start_time": "2020-12-08T14:39:46.775019",
     "status": "completed"
    },
    "tags": []
   },
   "source": [
    "###  Подбор параметров"
   ]
  },
  {
   "cell_type": "markdown",
   "metadata": {
    "papermill": {
     "duration": 0.161398,
     "end_time": "2020-12-08T14:39:47.252061",
     "exception": false,
     "start_time": "2020-12-08T14:39:47.090663",
     "status": "completed"
    },
    "tags": []
   },
   "source": [
    "Искать будем с помощью  GridSearch"
   ]
  },
  {
   "cell_type": "code",
   "execution_count": 71,
   "metadata": {
    "execution": {
     "iopub.execute_input": "2020-12-08T14:39:47.575584Z",
     "iopub.status.busy": "2020-12-08T14:39:47.574697Z",
     "iopub.status.idle": "2020-12-08T14:39:47.579185Z",
     "shell.execute_reply": "2020-12-08T14:39:47.578460Z"
    },
    "papermill": {
     "duration": 0.169302,
     "end_time": "2020-12-08T14:39:47.579357",
     "exception": false,
     "start_time": "2020-12-08T14:39:47.410055",
     "status": "completed"
    },
    "tags": []
   },
   "outputs": [
    {
     "data": {
      "text/plain": [
       "array([1.00000000e-01, 2.78255940e-01, 7.74263683e-01, 2.15443469e+00,\n",
       "       5.99484250e+00, 1.66810054e+01, 4.64158883e+01, 1.29154967e+02,\n",
       "       3.59381366e+02, 1.00000000e+03])"
      ]
     },
     "execution_count": 71,
     "metadata": {},
     "output_type": "execute_result"
    }
   ],
   "source": [
    "np.logspace(-1, 3, 10)"
   ]
  },
  {
   "cell_type": "code",
   "execution_count": 72,
   "metadata": {
    "execution": {
     "iopub.execute_input": "2020-12-08T14:39:47.903332Z",
     "iopub.status.busy": "2020-12-08T14:39:47.902298Z",
     "iopub.status.idle": "2020-12-08T14:39:47.905581Z",
     "shell.execute_reply": "2020-12-08T14:39:47.904918Z"
    },
    "papermill": {
     "duration": 0.166451,
     "end_time": "2020-12-08T14:39:47.905726",
     "exception": false,
     "start_time": "2020-12-08T14:39:47.739275",
     "status": "completed"
    },
    "tags": []
   },
   "outputs": [],
   "source": [
    "C = np.logspace(-1, 3, 10)\n",
    "iter_ = 1000\n",
    "epsilon_stop = 1e-3"
   ]
  },
  {
   "cell_type": "code",
   "execution_count": 73,
   "metadata": {
    "execution": {
     "iopub.execute_input": "2020-12-08T14:39:48.246137Z",
     "iopub.status.busy": "2020-12-08T14:39:48.244968Z",
     "iopub.status.idle": "2020-12-08T14:39:48.249209Z",
     "shell.execute_reply": "2020-12-08T14:39:48.248528Z"
    },
    "papermill": {
     "duration": 0.17344,
     "end_time": "2020-12-08T14:39:48.249362",
     "exception": false,
     "start_time": "2020-12-08T14:39:48.075922",
     "status": "completed"
    },
    "tags": []
   },
   "outputs": [],
   "source": [
    "hyperparameters = [\n",
    "    {'penalty': ['l1'], \n",
    "     'C': C,\n",
    "     'solver': ['liblinear', 'saga'], \n",
    "     'multi_class': ['auto','ovr'], \n",
    "     'max_iter':[iter_],\n",
    "     'tol':[epsilon_stop]},\n",
    "    {'penalty': ['l2'], \n",
    "     'C': C,\n",
    "     'solver': ['newton-cg', 'lbfgs', 'liblinear', 'sag', 'saga'], \n",
    "     'multi_class': ['auto','ovr'], \n",
    "     'max_iter':[iter_],\n",
    "     'tol':[epsilon_stop]},\n",
    "    {'penalty': ['none'], \n",
    "     'C': C,\n",
    "     'solver': ['newton-cg', 'lbfgs', 'sag', 'saga'], \n",
    "     'multi_class': ['auto','ovr'], \n",
    "     'max_iter':[iter_],\n",
    "     'tol':[epsilon_stop]},\n",
    "]"
   ]
  },
  {
   "cell_type": "code",
   "execution_count": 74,
   "metadata": {
    "execution": {
     "iopub.execute_input": "2020-12-08T14:39:48.569963Z",
     "iopub.status.busy": "2020-12-08T14:39:48.569106Z",
     "iopub.status.idle": "2020-12-08T14:39:48.572402Z",
     "shell.execute_reply": "2020-12-08T14:39:48.571697Z"
    },
    "papermill": {
     "duration": 0.166619,
     "end_time": "2020-12-08T14:39:48.572553",
     "exception": false,
     "start_time": "2020-12-08T14:39:48.405934",
     "status": "completed"
    },
    "tags": []
   },
   "outputs": [],
   "source": [
    "# Создаем сетку поиска с использованием 5-кратной перекрестной проверки\n",
    "# указываем модель, гиперпараметры\n",
    "model = LogisticRegression(class_weight = 'balanced', random_state = RANDOM_SEED)"
   ]
  },
  {
   "cell_type": "code",
   "execution_count": null,
   "metadata": {
    "execution": {
     "iopub.execute_input": "2020-12-08T14:39:48.908210Z",
     "iopub.status.busy": "2020-12-08T14:39:48.907314Z",
     "iopub.status.idle": "2020-12-08T14:55:30.388288Z",
     "shell.execute_reply": "2020-12-08T14:55:30.389094Z"
    },
    "papermill": {
     "duration": 941.649201,
     "end_time": "2020-12-08T14:55:30.389338",
     "exception": false,
     "start_time": "2020-12-08T14:39:48.740137",
     "status": "completed"
    },
    "tags": []
   },
   "outputs": [],
   "source": [
    "gridsearch = GridSearchCV(model, hyperparameters, scoring='f1', n_jobs=-1, cv=5)\n",
    "gridsearch.fit(X_train, y_train)\n",
    "model_best_params = gridsearch.best_estimator_\n",
    "\n",
    "# Печатаем параметры\n",
    "best_params = model_best_params.get_params()\n",
    "print(f'Лучшие значения параметров:') \n",
    "for param_name in best_params.keys():\n",
    "        print(f'  {param_name} = {best_params[param_name]},')"
   ]
  },
  {
   "cell_type": "code",
   "execution_count": null,
   "metadata": {
    "execution": {
     "iopub.execute_input": "2020-12-08T14:55:30.718081Z",
     "iopub.status.busy": "2020-12-08T14:55:30.717182Z",
     "iopub.status.idle": "2020-12-08T14:55:30.729293Z",
     "shell.execute_reply": "2020-12-08T14:55:30.728492Z"
    },
    "papermill": {
     "duration": 0.179779,
     "end_time": "2020-12-08T14:55:30.729472",
     "exception": false,
     "start_time": "2020-12-08T14:55:30.549693",
     "status": "completed"
    },
    "tags": []
   },
   "outputs": [],
   "source": [
    "mi_bestparams = ModelInspect(model_best_params, X_test, y_test)"
   ]
  },
  {
   "cell_type": "code",
   "execution_count": null,
   "metadata": {
    "execution": {
     "iopub.execute_input": "2020-12-08T14:55:31.067887Z",
     "iopub.status.busy": "2020-12-08T14:55:31.066697Z",
     "iopub.status.idle": "2020-12-08T14:55:31.418702Z",
     "shell.execute_reply": "2020-12-08T14:55:31.417879Z"
    },
    "papermill": {
     "duration": 0.521713,
     "end_time": "2020-12-08T14:55:31.418854",
     "exception": false,
     "start_time": "2020-12-08T14:55:30.897141",
     "status": "completed"
    },
    "tags": []
   },
   "outputs": [],
   "source": [
    "mi_bestparams.roc_curve_plot()"
   ]
  },
  {
   "cell_type": "code",
   "execution_count": null,
   "metadata": {
    "execution": {
     "iopub.execute_input": "2020-12-08T14:55:31.752196Z",
     "iopub.status.busy": "2020-12-08T14:55:31.751396Z",
     "iopub.status.idle": "2020-12-08T14:55:31.824741Z",
     "shell.execute_reply": "2020-12-08T14:55:31.824021Z"
    },
    "papermill": {
     "duration": 0.240239,
     "end_time": "2020-12-08T14:55:31.824905",
     "exception": false,
     "start_time": "2020-12-08T14:55:31.584666",
     "status": "completed"
    },
    "tags": []
   },
   "outputs": [],
   "source": [
    "metrics = pd.concat([mi_drop0coef.get_metrics(), mi_bestparams.get_metrics()],axis = 1)\n",
    "metrics.columns = ['previous md', 'best params']\n",
    "metrics"
   ]
  },
  {
   "cell_type": "code",
   "execution_count": null,
   "metadata": {
    "execution": {
     "iopub.execute_input": "2020-12-08T14:55:32.160843Z",
     "iopub.status.busy": "2020-12-08T14:55:32.159999Z",
     "iopub.status.idle": "2020-12-08T14:55:32.302611Z",
     "shell.execute_reply": "2020-12-08T14:55:32.301771Z"
    },
    "papermill": {
     "duration": 0.314627,
     "end_time": "2020-12-08T14:55:32.302769",
     "exception": false,
     "start_time": "2020-12-08T14:55:31.988142",
     "status": "completed"
    },
    "tags": []
   },
   "outputs": [],
   "source": [
    "mi_bestparams.confusion_matrix_plot()"
   ]
  },
  {
   "cell_type": "code",
   "execution_count": null,
   "metadata": {
    "execution": {
     "iopub.execute_input": "2020-12-08T14:55:32.643872Z",
     "iopub.status.busy": "2020-12-08T14:55:32.642724Z",
     "iopub.status.idle": "2020-12-08T14:55:32.781313Z",
     "shell.execute_reply": "2020-12-08T14:55:32.780567Z"
    },
    "papermill": {
     "duration": 0.309702,
     "end_time": "2020-12-08T14:55:32.781473",
     "exception": false,
     "start_time": "2020-12-08T14:55:32.471771",
     "status": "completed"
    },
    "tags": []
   },
   "outputs": [],
   "source": [
    "mi_drop0coef.confusion_matrix_plot()"
   ]
  },
  {
   "cell_type": "code",
   "execution_count": null,
   "metadata": {
    "execution": {
     "iopub.execute_input": "2020-12-08T14:55:33.125863Z",
     "iopub.status.busy": "2020-12-08T14:55:33.125077Z",
     "iopub.status.idle": "2020-12-08T14:55:33.469164Z",
     "shell.execute_reply": "2020-12-08T14:55:33.468498Z"
    },
    "papermill": {
     "duration": 0.519657,
     "end_time": "2020-12-08T14:55:33.469334",
     "exception": false,
     "start_time": "2020-12-08T14:55:32.949677",
     "status": "completed"
    },
    "tags": []
   },
   "outputs": [],
   "source": [
    "mi_bestparams.recall_precision_plot()"
   ]
  },
  {
   "cell_type": "markdown",
   "metadata": {
    "papermill": {
     "duration": 0.16576,
     "end_time": "2020-12-08T14:55:33.801981",
     "exception": false,
     "start_time": "2020-12-08T14:55:33.636221",
     "status": "completed"
    },
    "tags": []
   },
   "source": [
    "Подбор параметров с помощью GridSearchCV не дал практически никаких изменений для метрик модели"
   ]
  },
  {
   "cell_type": "markdown",
   "metadata": {
    "papermill": {
     "duration": 0.166351,
     "end_time": "2020-12-08T14:55:34.136566",
     "exception": false,
     "start_time": "2020-12-08T14:55:33.970215",
     "status": "completed"
    },
    "tags": []
   },
   "source": [
    "### Кросс-валидация"
   ]
  },
  {
   "cell_type": "code",
   "execution_count": null,
   "metadata": {
    "execution": {
     "iopub.execute_input": "2020-12-08T14:55:34.481939Z",
     "iopub.status.busy": "2020-12-08T14:55:34.481114Z",
     "iopub.status.idle": "2020-12-08T14:55:34.523744Z",
     "shell.execute_reply": "2020-12-08T14:55:34.524782Z"
    },
    "papermill": {
     "duration": 0.222836,
     "end_time": "2020-12-08T14:55:34.525058",
     "exception": false,
     "start_time": "2020-12-08T14:55:34.302222",
     "status": "completed"
    },
    "tags": []
   },
   "outputs": [],
   "source": [
    "train_data = df.query('Train == 1').drop(['Train', 'client_id'], axis=1)\n",
    "test_data = df.query('Train == 0').drop(['Train', 'client_id'], axis=1)\n",
    "\n",
    "y = train_data.default.values            # таргет\n",
    "X = train_data.drop(['default'], axis=1)"
   ]
  },
  {
   "cell_type": "code",
   "execution_count": null,
   "metadata": {
    "execution": {
     "iopub.execute_input": "2020-12-08T14:55:34.876364Z",
     "iopub.status.busy": "2020-12-08T14:55:34.875570Z",
     "iopub.status.idle": "2020-12-08T14:55:34.898374Z",
     "shell.execute_reply": "2020-12-08T14:55:34.897522Z"
    },
    "papermill": {
     "duration": 0.202147,
     "end_time": "2020-12-08T14:55:34.898533",
     "exception": false,
     "start_time": "2020-12-08T14:55:34.696386",
     "status": "completed"
    },
    "tags": []
   },
   "outputs": [],
   "source": [
    "X_train, X_test, y_train, y_test = train_test_split(X, y, test_size=0.2, random_state=RANDOM_SEED)"
   ]
  },
  {
   "cell_type": "code",
   "execution_count": null,
   "metadata": {
    "execution": {
     "iopub.execute_input": "2020-12-08T14:55:35.250730Z",
     "iopub.status.busy": "2020-12-08T14:55:35.249787Z",
     "iopub.status.idle": "2020-12-08T14:55:35.262178Z",
     "shell.execute_reply": "2020-12-08T14:55:35.261515Z"
    },
    "papermill": {
     "duration": 0.193951,
     "end_time": "2020-12-08T14:55:35.262333",
     "exception": false,
     "start_time": "2020-12-08T14:55:35.068382",
     "status": "completed"
    },
    "tags": []
   },
   "outputs": [],
   "source": [
    "X_train.drop(cols_4del, axis = 1, inplace = True)\n",
    "X_test.drop(cols_4del, axis = 1, inplace = True)\n",
    "X.drop(cols_4del, axis = 1, inplace = True)"
   ]
  },
  {
   "cell_type": "markdown",
   "metadata": {
    "papermill": {
     "duration": 0.16819,
     "end_time": "2020-12-08T14:55:35.595727",
     "exception": false,
     "start_time": "2020-12-08T14:55:35.427537",
     "status": "completed"
    },
    "tags": []
   },
   "source": [
    "Создадим две модели: самую начальную, с дефольными параметрами, и с подобранными параметрами, и посмотрим на их метрики после 10-fold разбиения"
   ]
  },
  {
   "cell_type": "code",
   "execution_count": null,
   "metadata": {
    "execution": {
     "iopub.execute_input": "2020-12-08T14:55:35.936886Z",
     "iopub.status.busy": "2020-12-08T14:55:35.936018Z",
     "iopub.status.idle": "2020-12-08T14:55:35.940472Z",
     "shell.execute_reply": "2020-12-08T14:55:35.939697Z"
    },
    "papermill": {
     "duration": 0.179769,
     "end_time": "2020-12-08T14:55:35.940600",
     "exception": false,
     "start_time": "2020-12-08T14:55:35.760831",
     "status": "completed"
    },
    "tags": []
   },
   "outputs": [],
   "source": [
    "model_0 = LogisticRegression(random_state=RANDOM_SEED)\n",
    "model_1 = LogisticRegression(C = 16.68100537200059,\n",
    "  class_weight = 'balanced',\n",
    "  dual = False,\n",
    "  fit_intercept = True,\n",
    "  intercept_scaling = 1,\n",
    "  l1_ratio = None,\n",
    "  max_iter = 1000,\n",
    "  multi_class = 'auto',\n",
    "  n_jobs = None,\n",
    "  penalty = 'l2',\n",
    "  random_state = 42,\n",
    "  solver = 'liblinear',\n",
    "  tol = 0.001,\n",
    "  verbose = 0,\n",
    "  warm_start = False)"
   ]
  },
  {
   "cell_type": "code",
   "execution_count": null,
   "metadata": {
    "execution": {
     "iopub.execute_input": "2020-12-08T14:55:36.282986Z",
     "iopub.status.busy": "2020-12-08T14:55:36.281932Z",
     "iopub.status.idle": "2020-12-08T14:55:36.285184Z",
     "shell.execute_reply": "2020-12-08T14:55:36.285823Z"
    },
    "papermill": {
     "duration": 0.178838,
     "end_time": "2020-12-08T14:55:36.286004",
     "exception": false,
     "start_time": "2020-12-08T14:55:36.107166",
     "status": "completed"
    },
    "tags": []
   },
   "outputs": [],
   "source": [
    "# испортируем библиотеку для kfold кросс-валидации \n",
    "from sklearn.model_selection import cross_val_score"
   ]
  },
  {
   "cell_type": "code",
   "execution_count": null,
   "metadata": {
    "execution": {
     "iopub.execute_input": "2020-12-08T14:55:36.629003Z",
     "iopub.status.busy": "2020-12-08T14:55:36.628231Z",
     "iopub.status.idle": "2020-12-08T14:55:53.913340Z",
     "shell.execute_reply": "2020-12-08T14:55:53.912518Z"
    },
    "papermill": {
     "duration": 17.460306,
     "end_time": "2020-12-08T14:55:53.913531",
     "exception": false,
     "start_time": "2020-12-08T14:55:36.453225",
     "status": "completed"
    },
    "tags": []
   },
   "outputs": [],
   "source": [
    "scores_0 = cross_val_score(model_0, X, y, cv=10, scoring='f1')\n",
    "scores_1 = cross_val_score(model_1, X, y, cv=10, scoring='f1')"
   ]
  },
  {
   "cell_type": "code",
   "execution_count": null,
   "metadata": {
    "execution": {
     "iopub.execute_input": "2020-12-08T14:55:54.278010Z",
     "iopub.status.busy": "2020-12-08T14:55:54.269410Z",
     "iopub.status.idle": "2020-12-08T14:55:54.635022Z",
     "shell.execute_reply": "2020-12-08T14:55:54.634156Z"
    },
    "papermill": {
     "duration": 0.547173,
     "end_time": "2020-12-08T14:55:54.635170",
     "exception": false,
     "start_time": "2020-12-08T14:55:54.087997",
     "status": "completed"
    },
    "tags": []
   },
   "outputs": [],
   "source": [
    "x = np.arange(1,11)\n",
    "\n",
    "fig, axes = plt.subplots(figsize=(10,5))\n",
    "plt.plot(x, scores_0, label = 'дефолтный режим', linewidth=10)\n",
    "plt.plot(x, scores_1, label = 'подобранные параметры', linewidth=10)\n",
    "plt.title('Кросс-валидация для моделей с разной регуляризацией')\n",
    "plt.ylabel('значение F1')\n",
    "plt.xlabel('номер фолда')\n",
    "ax.set_xticks(x)\n",
    "yticks = np.arange(0.32, 0.36, 0.002)\n",
    "plt.legend(loc = 'center')\n",
    "ax.set_yticks(yticks)\n",
    "ax.grid(True)\n"
   ]
  },
  {
   "cell_type": "markdown",
   "metadata": {
    "papermill": {
     "duration": 0.178252,
     "end_time": "2020-12-08T14:55:55.001594",
     "exception": false,
     "start_time": "2020-12-08T14:55:54.823342",
     "status": "completed"
    },
    "tags": []
   },
   "source": [
    "Последняя модель стабильно дает лучшие результаты, чем дефолтная(это так, просто иллюстрация)"
   ]
  },
  {
   "cell_type": "code",
   "execution_count": null,
   "metadata": {
    "execution": {
     "iopub.execute_input": "2020-12-08T14:55:55.372549Z",
     "iopub.status.busy": "2020-12-08T14:55:55.364748Z",
     "iopub.status.idle": "2020-12-08T14:55:55.695574Z",
     "shell.execute_reply": "2020-12-08T14:55:55.694809Z"
    },
    "papermill": {
     "duration": 0.515429,
     "end_time": "2020-12-08T14:55:55.695711",
     "exception": false,
     "start_time": "2020-12-08T14:55:55.180282",
     "status": "completed"
    },
    "tags": []
   },
   "outputs": [],
   "source": [
    "x = np.arange(1,11)\n",
    "\n",
    "fig, axes = plt.subplots(figsize=(10,5))\n",
    "plt.plot(x, scores_1, label = 'подобранные параметры', linewidth=10)\n",
    "plt.title('Кросс-валидация')\n",
    "plt.ylabel('значение F1')\n",
    "plt.xlabel('номер фолда')\n",
    "ax.set_xticks(x)\n",
    "yticks = np.arange(0.32, 0.36, 0.002)\n",
    "plt.legend(loc = 'lower left')\n",
    "ax.set_yticks(yticks)\n",
    "ax.grid(True)"
   ]
  },
  {
   "cell_type": "markdown",
   "metadata": {
    "papermill": {
     "duration": 0.172202,
     "end_time": "2020-12-08T14:55:56.039580",
     "exception": false,
     "start_time": "2020-12-08T14:55:55.867378",
     "status": "completed"
    },
    "tags": []
   },
   "source": [
    "Итак, оставляем последнюю модель с наилучшими параметрами"
   ]
  },
  {
   "cell_type": "markdown",
   "metadata": {
    "papermill": {
     "duration": 0.175623,
     "end_time": "2020-12-08T14:55:56.393016",
     "exception": false,
     "start_time": "2020-12-08T14:55:56.217393",
     "status": "completed"
    },
    "tags": []
   },
   "source": [
    "# 6. Вывод\n",
    "1. Заметные изменения по сравнению с дефолтным набором признаков принесло добавление весов в выборку. \n",
    "Изначальный ее дисбаланс приводил к большой ошибке FN и, как следствие, маленьким значениям recall. Добавление же весов избавило от этой проблемы, однако, снизило значение precision. Наверное, лучшие иметь неплохими все метрики, чем одни очень хорошими, а другие очень плохими(мне так кажется, возможно, это неправда).\n",
    "2.  Подбор оптимальных параметров с помощью GridSearchCV же не принес видимого результата.\n",
    "Кажется, что нет особой разници, пользоваться ли моделью с дефолтными параметрами и весами, или с подобранными параметрами и весами. Для submission выбрана модель с подобранными параметрами.\n",
    "3. Все изменения параметров модели практически не влияли на значение ROC AUC.\n"
   ]
  },
  {
   "cell_type": "markdown",
   "metadata": {
    "papermill": {
     "duration": 0.172618,
     "end_time": "2020-12-08T14:55:56.737509",
     "exception": false,
     "start_time": "2020-12-08T14:55:56.564891",
     "status": "completed"
    },
    "tags": []
   },
   "source": [
    "## Submission"
   ]
  },
  {
   "cell_type": "code",
   "execution_count": null,
   "metadata": {
    "execution": {
     "iopub.execute_input": "2020-12-08T14:55:57.089549Z",
     "iopub.status.busy": "2020-12-08T14:55:57.088474Z",
     "iopub.status.idle": "2020-12-08T14:55:57.094131Z",
     "shell.execute_reply": "2020-12-08T14:55:57.093335Z"
    },
    "papermill": {
     "duration": 0.185518,
     "end_time": "2020-12-08T14:55:57.094289",
     "exception": false,
     "start_time": "2020-12-08T14:55:56.908771",
     "status": "completed"
    },
    "tags": []
   },
   "outputs": [],
   "source": [
    "model_best_params"
   ]
  },
  {
   "cell_type": "code",
   "execution_count": null,
   "metadata": {
    "execution": {
     "iopub.execute_input": "2020-12-08T14:55:57.449541Z",
     "iopub.status.busy": "2020-12-08T14:55:57.448777Z",
     "iopub.status.idle": "2020-12-08T14:55:57.473157Z",
     "shell.execute_reply": "2020-12-08T14:55:57.472421Z"
    },
    "papermill": {
     "duration": 0.206347,
     "end_time": "2020-12-08T14:55:57.473328",
     "exception": false,
     "start_time": "2020-12-08T14:55:57.266981",
     "status": "completed"
    },
    "tags": []
   },
   "outputs": [],
   "source": [
    "test_data = df.query('Train == 0').drop(['Train'], axis=1)\n",
    "test_data.drop(cols_4del, axis = 1, inplace = True)\n",
    "X_test = test_data.drop(['default', 'client_id'], axis=1)"
   ]
  },
  {
   "cell_type": "code",
   "execution_count": null,
   "metadata": {
    "execution": {
     "iopub.execute_input": "2020-12-08T14:55:57.832746Z",
     "iopub.status.busy": "2020-12-08T14:55:57.831905Z",
     "iopub.status.idle": "2020-12-08T14:55:57.843473Z",
     "shell.execute_reply": "2020-12-08T14:55:57.842715Z"
    },
    "papermill": {
     "duration": 0.194431,
     "end_time": "2020-12-08T14:55:57.843637",
     "exception": false,
     "start_time": "2020-12-08T14:55:57.649206",
     "status": "completed"
    },
    "tags": []
   },
   "outputs": [],
   "source": [
    "y_pred_prob = model_best_params.predict_proba(X_test)[:,1]"
   ]
  },
  {
   "cell_type": "code",
   "execution_count": null,
   "metadata": {
    "execution": {
     "iopub.execute_input": "2020-12-08T14:55:58.209467Z",
     "iopub.status.busy": "2020-12-08T14:55:58.207397Z",
     "iopub.status.idle": "2020-12-08T14:55:58.748318Z",
     "shell.execute_reply": "2020-12-08T14:55:58.747509Z"
    },
    "papermill": {
     "duration": 0.728806,
     "end_time": "2020-12-08T14:55:58.748464",
     "exception": false,
     "start_time": "2020-12-08T14:55:58.019658",
     "status": "completed"
    },
    "tags": []
   },
   "outputs": [],
   "source": [
    "submit = pd.DataFrame(test_data.client_id)\n",
    "submit['default']=y_pred_prob\n",
    "submit.to_csv('submission.csv', index=False)"
   ]
  },
  {
   "cell_type": "code",
   "execution_count": null,
   "metadata": {
    "papermill": {
     "duration": 0.179058,
     "end_time": "2020-12-08T14:55:59.101814",
     "exception": false,
     "start_time": "2020-12-08T14:55:58.922756",
     "status": "completed"
    },
    "tags": []
   },
   "outputs": [],
   "source": []
  }
 ],
 "metadata": {
  "kernelspec": {
   "display_name": "Python 3",
   "language": "python",
   "name": "python3"
  },
  "language_info": {
   "codemirror_mode": {
    "name": "ipython",
    "version": 3
   },
   "file_extension": ".py",
   "mimetype": "text/x-python",
   "name": "python",
   "nbconvert_exporter": "python",
   "pygments_lexer": "ipython3",
   "version": "3.7.6"
  },
  "papermill": {
   "duration": 1041.914673,
   "end_time": "2020-12-08T14:55:59.429146",
   "environment_variables": {},
   "exception": null,
   "input_path": "__notebook__.ipynb",
   "output_path": "__notebook__.ipynb",
   "parameters": {},
   "start_time": "2020-12-08T14:38:37.514473",
   "version": "2.1.0"
  }
 },
 "nbformat": 4,
 "nbformat_minor": 4
}
